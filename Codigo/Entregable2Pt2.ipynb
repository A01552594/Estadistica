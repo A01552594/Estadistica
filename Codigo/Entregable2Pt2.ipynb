{
  "nbformat": 4,
  "nbformat_minor": 0,
  "metadata": {
    "colab": {
      "provenance": []
    },
    "kernelspec": {
      "name": "python3",
      "display_name": "Python 3"
    },
    "language_info": {
      "name": "python"
    }
  },
  "cells": [
    {
      "cell_type": "markdown",
      "source": [
        "#  Parte 2"
      ],
      "metadata": {
        "id": "c74Qs6Wmd6SK"
      }
    },
    {
      "cell_type": "markdown",
      "source": [
        "El objetivo de este entregable es calibrar un modelo ARIMA-SARIMA para la serie del ÍNDICE GLOBAL DE ACTIVIDAD ECONÓMICA de México. Se realizará el proceso de manejo de datos y calibración del modelo para obtener un pronóstico de la economía mexicana hasta el cierre del sexenio actual (SEP 2024)."
      ],
      "metadata": {
        "id": "fYgCOPWRxFWW"
      }
    },
    {
      "cell_type": "markdown",
      "source": [
        "Lectura de datos"
      ],
      "metadata": {
        "id": "1yc5X6CBwuar"
      }
    },
    {
      "cell_type": "code",
      "execution_count": null,
      "metadata": {
        "colab": {
          "base_uri": "https://localhost:8080/"
        },
        "id": "fFnyfOold5q7",
        "outputId": "35b4f370-6019-434c-b453-b9ba6c2908f9"
      },
      "outputs": [
        {
          "output_type": "stream",
          "name": "stdout",
          "text": [
            "Drive already mounted at /content/gdrive; to attempt to forcibly remount, call drive.mount(\"/content/gdrive\", force_remount=True).\n"
          ]
        }
      ],
      "source": [
        "from google.colab import drive\n",
        "\n",
        "drive.mount(\"/content/gdrive\")  "
      ]
    },
    {
      "cell_type": "code",
      "source": [
        "%cd \"/content/gdrive/MyDrive/IA/Estadistica\"\n",
        "%ls"
      ],
      "metadata": {
        "colab": {
          "base_uri": "https://localhost:8080/"
        },
        "id": "iW48uXN9eO2A",
        "outputId": "5143438c-9a4d-4ac7-f14f-b7d0a73b26d4"
      },
      "execution_count": null,
      "outputs": [
        {
          "output_type": "stream",
          "name": "stdout",
          "text": [
            "/content/gdrive/MyDrive/IA/Estadistica\n",
            "bcase.html   Datos.csv         Entregable2.ipynb     Firmas.csv\n",
            "bcase.ipynb  Entregable2.html  Entregable2Pt2.ipynb  Indicadores.csv\n"
          ]
        }
      ]
    },
    {
      "cell_type": "markdown",
      "source": [
        "Importación de librerias"
      ],
      "metadata": {
        "id": "Xh8Q4RfGwynb"
      }
    },
    {
      "cell_type": "code",
      "source": [
        "import pandas as pd\n",
        "import numpy as np\n",
        "import seaborn as sns\n",
        "from statsmodels.tsa.stattools import acf, pacf\n",
        "from statsmodels.tsa.arima_model import ARMA\n",
        "from statsmodels.graphics.tsaplots import plot_acf, plot_pacf\n",
        "\n",
        "import matplotlib.pyplot as plt\n",
        "from matplotlib import rcParams\n",
        "from cycler import cycler"
      ],
      "metadata": {
        "id": "wgyx35o9ePI_"
      },
      "execution_count": null,
      "outputs": []
    },
    {
      "cell_type": "code",
      "source": [
        "df_ind = pd.read_csv('Indicadores.csv')\n"
      ],
      "metadata": {
        "id": "-Q1RrWRgeSod"
      },
      "execution_count": null,
      "outputs": []
    },
    {
      "cell_type": "code",
      "source": [
        "df_ind"
      ],
      "metadata": {
        "colab": {
          "base_uri": "https://localhost:8080/",
          "height": 424
        },
        "id": "u3aS0RGUeuis",
        "outputId": "13812eda-e179-4382-ee49-b478bc21b03a"
      },
      "execution_count": null,
      "outputs": [
        {
          "output_type": "execute_result",
          "data": {
            "text/plain": [
              "     Periodo       Valor\n",
              "0    2022/07  111.274552\n",
              "1    2022/06  112.797501\n",
              "2    2022/05  114.442424\n",
              "3    2022/04  109.529866\n",
              "4    2022/03  111.940152\n",
              "..       ...         ...\n",
              "350  1993/05   63.612900\n",
              "351  1993/04   61.865984\n",
              "352  1993/03   63.943249\n",
              "353  1993/02   61.022521\n",
              "354  1993/01   60.407691\n",
              "\n",
              "[355 rows x 2 columns]"
            ],
            "text/html": [
              "\n",
              "  <div id=\"df-49e45683-f942-4510-ace4-c1ca8098297e\">\n",
              "    <div class=\"colab-df-container\">\n",
              "      <div>\n",
              "<style scoped>\n",
              "    .dataframe tbody tr th:only-of-type {\n",
              "        vertical-align: middle;\n",
              "    }\n",
              "\n",
              "    .dataframe tbody tr th {\n",
              "        vertical-align: top;\n",
              "    }\n",
              "\n",
              "    .dataframe thead th {\n",
              "        text-align: right;\n",
              "    }\n",
              "</style>\n",
              "<table border=\"1\" class=\"dataframe\">\n",
              "  <thead>\n",
              "    <tr style=\"text-align: right;\">\n",
              "      <th></th>\n",
              "      <th>Periodo</th>\n",
              "      <th>Valor</th>\n",
              "    </tr>\n",
              "  </thead>\n",
              "  <tbody>\n",
              "    <tr>\n",
              "      <th>0</th>\n",
              "      <td>2022/07</td>\n",
              "      <td>111.274552</td>\n",
              "    </tr>\n",
              "    <tr>\n",
              "      <th>1</th>\n",
              "      <td>2022/06</td>\n",
              "      <td>112.797501</td>\n",
              "    </tr>\n",
              "    <tr>\n",
              "      <th>2</th>\n",
              "      <td>2022/05</td>\n",
              "      <td>114.442424</td>\n",
              "    </tr>\n",
              "    <tr>\n",
              "      <th>3</th>\n",
              "      <td>2022/04</td>\n",
              "      <td>109.529866</td>\n",
              "    </tr>\n",
              "    <tr>\n",
              "      <th>4</th>\n",
              "      <td>2022/03</td>\n",
              "      <td>111.940152</td>\n",
              "    </tr>\n",
              "    <tr>\n",
              "      <th>...</th>\n",
              "      <td>...</td>\n",
              "      <td>...</td>\n",
              "    </tr>\n",
              "    <tr>\n",
              "      <th>350</th>\n",
              "      <td>1993/05</td>\n",
              "      <td>63.612900</td>\n",
              "    </tr>\n",
              "    <tr>\n",
              "      <th>351</th>\n",
              "      <td>1993/04</td>\n",
              "      <td>61.865984</td>\n",
              "    </tr>\n",
              "    <tr>\n",
              "      <th>352</th>\n",
              "      <td>1993/03</td>\n",
              "      <td>63.943249</td>\n",
              "    </tr>\n",
              "    <tr>\n",
              "      <th>353</th>\n",
              "      <td>1993/02</td>\n",
              "      <td>61.022521</td>\n",
              "    </tr>\n",
              "    <tr>\n",
              "      <th>354</th>\n",
              "      <td>1993/01</td>\n",
              "      <td>60.407691</td>\n",
              "    </tr>\n",
              "  </tbody>\n",
              "</table>\n",
              "<p>355 rows × 2 columns</p>\n",
              "</div>\n",
              "      <button class=\"colab-df-convert\" onclick=\"convertToInteractive('df-49e45683-f942-4510-ace4-c1ca8098297e')\"\n",
              "              title=\"Convert this dataframe to an interactive table.\"\n",
              "              style=\"display:none;\">\n",
              "        \n",
              "  <svg xmlns=\"http://www.w3.org/2000/svg\" height=\"24px\"viewBox=\"0 0 24 24\"\n",
              "       width=\"24px\">\n",
              "    <path d=\"M0 0h24v24H0V0z\" fill=\"none\"/>\n",
              "    <path d=\"M18.56 5.44l.94 2.06.94-2.06 2.06-.94-2.06-.94-.94-2.06-.94 2.06-2.06.94zm-11 1L8.5 8.5l.94-2.06 2.06-.94-2.06-.94L8.5 2.5l-.94 2.06-2.06.94zm10 10l.94 2.06.94-2.06 2.06-.94-2.06-.94-.94-2.06-.94 2.06-2.06.94z\"/><path d=\"M17.41 7.96l-1.37-1.37c-.4-.4-.92-.59-1.43-.59-.52 0-1.04.2-1.43.59L10.3 9.45l-7.72 7.72c-.78.78-.78 2.05 0 2.83L4 21.41c.39.39.9.59 1.41.59.51 0 1.02-.2 1.41-.59l7.78-7.78 2.81-2.81c.8-.78.8-2.07 0-2.86zM5.41 20L4 18.59l7.72-7.72 1.47 1.35L5.41 20z\"/>\n",
              "  </svg>\n",
              "      </button>\n",
              "      \n",
              "  <style>\n",
              "    .colab-df-container {\n",
              "      display:flex;\n",
              "      flex-wrap:wrap;\n",
              "      gap: 12px;\n",
              "    }\n",
              "\n",
              "    .colab-df-convert {\n",
              "      background-color: #E8F0FE;\n",
              "      border: none;\n",
              "      border-radius: 50%;\n",
              "      cursor: pointer;\n",
              "      display: none;\n",
              "      fill: #1967D2;\n",
              "      height: 32px;\n",
              "      padding: 0 0 0 0;\n",
              "      width: 32px;\n",
              "    }\n",
              "\n",
              "    .colab-df-convert:hover {\n",
              "      background-color: #E2EBFA;\n",
              "      box-shadow: 0px 1px 2px rgba(60, 64, 67, 0.3), 0px 1px 3px 1px rgba(60, 64, 67, 0.15);\n",
              "      fill: #174EA6;\n",
              "    }\n",
              "\n",
              "    [theme=dark] .colab-df-convert {\n",
              "      background-color: #3B4455;\n",
              "      fill: #D2E3FC;\n",
              "    }\n",
              "\n",
              "    [theme=dark] .colab-df-convert:hover {\n",
              "      background-color: #434B5C;\n",
              "      box-shadow: 0px 1px 3px 1px rgba(0, 0, 0, 0.15);\n",
              "      filter: drop-shadow(0px 1px 2px rgba(0, 0, 0, 0.3));\n",
              "      fill: #FFFFFF;\n",
              "    }\n",
              "  </style>\n",
              "\n",
              "      <script>\n",
              "        const buttonEl =\n",
              "          document.querySelector('#df-49e45683-f942-4510-ace4-c1ca8098297e button.colab-df-convert');\n",
              "        buttonEl.style.display =\n",
              "          google.colab.kernel.accessAllowed ? 'block' : 'none';\n",
              "\n",
              "        async function convertToInteractive(key) {\n",
              "          const element = document.querySelector('#df-49e45683-f942-4510-ace4-c1ca8098297e');\n",
              "          const dataTable =\n",
              "            await google.colab.kernel.invokeFunction('convertToInteractive',\n",
              "                                                     [key], {});\n",
              "          if (!dataTable) return;\n",
              "\n",
              "          const docLinkHtml = 'Like what you see? Visit the ' +\n",
              "            '<a target=\"_blank\" href=https://colab.research.google.com/notebooks/data_table.ipynb>data table notebook</a>'\n",
              "            + ' to learn more about interactive tables.';\n",
              "          element.innerHTML = '';\n",
              "          dataTable['output_type'] = 'display_data';\n",
              "          await google.colab.output.renderOutput(dataTable, element);\n",
              "          const docLink = document.createElement('div');\n",
              "          docLink.innerHTML = docLinkHtml;\n",
              "          element.appendChild(docLink);\n",
              "        }\n",
              "      </script>\n",
              "    </div>\n",
              "  </div>\n",
              "  "
            ]
          },
          "metadata": {},
          "execution_count": 813
        }
      ]
    },
    {
      "cell_type": "markdown",
      "source": [
        "Ordenamiento de los datos"
      ],
      "metadata": {
        "id": "57_P-Qqcw51x"
      }
    },
    {
      "cell_type": "code",
      "source": [
        "df_ind = df_ind.sort_values(by='Periodo')\n",
        "df_ind = df_ind.reset_index(drop=True)"
      ],
      "metadata": {
        "id": "ygbQnT6levVK"
      },
      "execution_count": null,
      "outputs": []
    },
    {
      "cell_type": "code",
      "source": [
        "df_ind"
      ],
      "metadata": {
        "colab": {
          "base_uri": "https://localhost:8080/",
          "height": 424
        },
        "id": "h6mJcy7Ce54i",
        "outputId": "e8a7d5e4-9d80-4648-8c6d-b2e3ffc3bf9e"
      },
      "execution_count": null,
      "outputs": [
        {
          "output_type": "execute_result",
          "data": {
            "text/plain": [
              "     Periodo       Valor\n",
              "0    1993/01   60.407691\n",
              "1    1993/02   61.022521\n",
              "2    1993/03   63.943249\n",
              "3    1993/04   61.865984\n",
              "4    1993/05   63.612900\n",
              "..       ...         ...\n",
              "350  2022/03  111.940152\n",
              "351  2022/04  109.529866\n",
              "352  2022/05  114.442424\n",
              "353  2022/06  112.797501\n",
              "354  2022/07  111.274552\n",
              "\n",
              "[355 rows x 2 columns]"
            ],
            "text/html": [
              "\n",
              "  <div id=\"df-5c041002-e6d9-4be5-ae5e-2214fdd3d56d\">\n",
              "    <div class=\"colab-df-container\">\n",
              "      <div>\n",
              "<style scoped>\n",
              "    .dataframe tbody tr th:only-of-type {\n",
              "        vertical-align: middle;\n",
              "    }\n",
              "\n",
              "    .dataframe tbody tr th {\n",
              "        vertical-align: top;\n",
              "    }\n",
              "\n",
              "    .dataframe thead th {\n",
              "        text-align: right;\n",
              "    }\n",
              "</style>\n",
              "<table border=\"1\" class=\"dataframe\">\n",
              "  <thead>\n",
              "    <tr style=\"text-align: right;\">\n",
              "      <th></th>\n",
              "      <th>Periodo</th>\n",
              "      <th>Valor</th>\n",
              "    </tr>\n",
              "  </thead>\n",
              "  <tbody>\n",
              "    <tr>\n",
              "      <th>0</th>\n",
              "      <td>1993/01</td>\n",
              "      <td>60.407691</td>\n",
              "    </tr>\n",
              "    <tr>\n",
              "      <th>1</th>\n",
              "      <td>1993/02</td>\n",
              "      <td>61.022521</td>\n",
              "    </tr>\n",
              "    <tr>\n",
              "      <th>2</th>\n",
              "      <td>1993/03</td>\n",
              "      <td>63.943249</td>\n",
              "    </tr>\n",
              "    <tr>\n",
              "      <th>3</th>\n",
              "      <td>1993/04</td>\n",
              "      <td>61.865984</td>\n",
              "    </tr>\n",
              "    <tr>\n",
              "      <th>4</th>\n",
              "      <td>1993/05</td>\n",
              "      <td>63.612900</td>\n",
              "    </tr>\n",
              "    <tr>\n",
              "      <th>...</th>\n",
              "      <td>...</td>\n",
              "      <td>...</td>\n",
              "    </tr>\n",
              "    <tr>\n",
              "      <th>350</th>\n",
              "      <td>2022/03</td>\n",
              "      <td>111.940152</td>\n",
              "    </tr>\n",
              "    <tr>\n",
              "      <th>351</th>\n",
              "      <td>2022/04</td>\n",
              "      <td>109.529866</td>\n",
              "    </tr>\n",
              "    <tr>\n",
              "      <th>352</th>\n",
              "      <td>2022/05</td>\n",
              "      <td>114.442424</td>\n",
              "    </tr>\n",
              "    <tr>\n",
              "      <th>353</th>\n",
              "      <td>2022/06</td>\n",
              "      <td>112.797501</td>\n",
              "    </tr>\n",
              "    <tr>\n",
              "      <th>354</th>\n",
              "      <td>2022/07</td>\n",
              "      <td>111.274552</td>\n",
              "    </tr>\n",
              "  </tbody>\n",
              "</table>\n",
              "<p>355 rows × 2 columns</p>\n",
              "</div>\n",
              "      <button class=\"colab-df-convert\" onclick=\"convertToInteractive('df-5c041002-e6d9-4be5-ae5e-2214fdd3d56d')\"\n",
              "              title=\"Convert this dataframe to an interactive table.\"\n",
              "              style=\"display:none;\">\n",
              "        \n",
              "  <svg xmlns=\"http://www.w3.org/2000/svg\" height=\"24px\"viewBox=\"0 0 24 24\"\n",
              "       width=\"24px\">\n",
              "    <path d=\"M0 0h24v24H0V0z\" fill=\"none\"/>\n",
              "    <path d=\"M18.56 5.44l.94 2.06.94-2.06 2.06-.94-2.06-.94-.94-2.06-.94 2.06-2.06.94zm-11 1L8.5 8.5l.94-2.06 2.06-.94-2.06-.94L8.5 2.5l-.94 2.06-2.06.94zm10 10l.94 2.06.94-2.06 2.06-.94-2.06-.94-.94-2.06-.94 2.06-2.06.94z\"/><path d=\"M17.41 7.96l-1.37-1.37c-.4-.4-.92-.59-1.43-.59-.52 0-1.04.2-1.43.59L10.3 9.45l-7.72 7.72c-.78.78-.78 2.05 0 2.83L4 21.41c.39.39.9.59 1.41.59.51 0 1.02-.2 1.41-.59l7.78-7.78 2.81-2.81c.8-.78.8-2.07 0-2.86zM5.41 20L4 18.59l7.72-7.72 1.47 1.35L5.41 20z\"/>\n",
              "  </svg>\n",
              "      </button>\n",
              "      \n",
              "  <style>\n",
              "    .colab-df-container {\n",
              "      display:flex;\n",
              "      flex-wrap:wrap;\n",
              "      gap: 12px;\n",
              "    }\n",
              "\n",
              "    .colab-df-convert {\n",
              "      background-color: #E8F0FE;\n",
              "      border: none;\n",
              "      border-radius: 50%;\n",
              "      cursor: pointer;\n",
              "      display: none;\n",
              "      fill: #1967D2;\n",
              "      height: 32px;\n",
              "      padding: 0 0 0 0;\n",
              "      width: 32px;\n",
              "    }\n",
              "\n",
              "    .colab-df-convert:hover {\n",
              "      background-color: #E2EBFA;\n",
              "      box-shadow: 0px 1px 2px rgba(60, 64, 67, 0.3), 0px 1px 3px 1px rgba(60, 64, 67, 0.15);\n",
              "      fill: #174EA6;\n",
              "    }\n",
              "\n",
              "    [theme=dark] .colab-df-convert {\n",
              "      background-color: #3B4455;\n",
              "      fill: #D2E3FC;\n",
              "    }\n",
              "\n",
              "    [theme=dark] .colab-df-convert:hover {\n",
              "      background-color: #434B5C;\n",
              "      box-shadow: 0px 1px 3px 1px rgba(0, 0, 0, 0.15);\n",
              "      filter: drop-shadow(0px 1px 2px rgba(0, 0, 0, 0.3));\n",
              "      fill: #FFFFFF;\n",
              "    }\n",
              "  </style>\n",
              "\n",
              "      <script>\n",
              "        const buttonEl =\n",
              "          document.querySelector('#df-5c041002-e6d9-4be5-ae5e-2214fdd3d56d button.colab-df-convert');\n",
              "        buttonEl.style.display =\n",
              "          google.colab.kernel.accessAllowed ? 'block' : 'none';\n",
              "\n",
              "        async function convertToInteractive(key) {\n",
              "          const element = document.querySelector('#df-5c041002-e6d9-4be5-ae5e-2214fdd3d56d');\n",
              "          const dataTable =\n",
              "            await google.colab.kernel.invokeFunction('convertToInteractive',\n",
              "                                                     [key], {});\n",
              "          if (!dataTable) return;\n",
              "\n",
              "          const docLinkHtml = 'Like what you see? Visit the ' +\n",
              "            '<a target=\"_blank\" href=https://colab.research.google.com/notebooks/data_table.ipynb>data table notebook</a>'\n",
              "            + ' to learn more about interactive tables.';\n",
              "          element.innerHTML = '';\n",
              "          dataTable['output_type'] = 'display_data';\n",
              "          await google.colab.output.renderOutput(dataTable, element);\n",
              "          const docLink = document.createElement('div');\n",
              "          docLink.innerHTML = docLinkHtml;\n",
              "          element.appendChild(docLink);\n",
              "        }\n",
              "      </script>\n",
              "    </div>\n",
              "  </div>\n",
              "  "
            ]
          },
          "metadata": {},
          "execution_count": 815
        }
      ]
    },
    {
      "cell_type": "markdown",
      "source": [
        "**Converción a estacionario**"
      ],
      "metadata": {
        "id": "13pIjBK3fcHz"
      }
    },
    {
      "cell_type": "markdown",
      "source": [
        "**Definición de D y d**"
      ],
      "metadata": {
        "id": "g-tn2fJ-zQ1n"
      }
    },
    {
      "cell_type": "markdown",
      "source": [
        "Procederemos a ver si nuestros datos ya son estacionarios"
      ],
      "metadata": {
        "id": "4RZ5D9sg2ib7"
      }
    },
    {
      "cell_type": "code",
      "source": [
        "df_ind['lny'] = np.log(df_ind['Valor'])"
      ],
      "metadata": {
        "id": "vPMdSobV50QQ"
      },
      "execution_count": null,
      "outputs": []
    },
    {
      "cell_type": "code",
      "source": [
        "from statsmodels.tsa.stattools import adfuller\n",
        "d_test = adfuller(df_ind['lny'])\n",
        "print('p-value: %f' % d_test[1])"
      ],
      "metadata": {
        "colab": {
          "base_uri": "https://localhost:8080/"
        },
        "id": "oTzM2uIbxq0Y",
        "outputId": "56abac13-e7ca-41ac-ffba-1563af4053ab"
      },
      "execution_count": null,
      "outputs": [
        {
          "output_type": "stream",
          "name": "stdout",
          "text": [
            "p-value: 0.669224\n"
          ]
        }
      ]
    },
    {
      "cell_type": "markdown",
      "source": [
        "Recordemos que el p-value debe de tener un valor menor a 0.05 para poder determinar que nuestra variable ya es estacionaria, por ello podemos saber que nuestra variable de momento no es estacionaria, ya que su valor esta muy alejado del 0.05"
      ],
      "metadata": {
        "id": "zCMtT5khyEwc"
      }
    },
    {
      "cell_type": "markdown",
      "source": [
        "Se recomienda siempre iniciar con el valor de D = 1 en donde se resta el valor original menos el valor 12 registros atrás"
      ],
      "metadata": {
        "id": "axDXNyVGI0OY"
      }
    },
    {
      "cell_type": "code",
      "source": [
        "df_ind['G']= df_ind['lny']  - np.log(df_ind['Valor']).shift(12)\n",
        "df_ind"
      ],
      "metadata": {
        "colab": {
          "base_uri": "https://localhost:8080/",
          "height": 424
        },
        "id": "zb8-1ZgBhBo-",
        "outputId": "2b0fbc5a-4f8a-484b-9f16-be15c6fd6e65"
      },
      "execution_count": null,
      "outputs": [
        {
          "output_type": "execute_result",
          "data": {
            "text/plain": [
              "     Periodo       Valor       lny         G\n",
              "0    1993/01   60.407691  4.101116       NaN\n",
              "1    1993/02   61.022521  4.111243       NaN\n",
              "2    1993/03   63.943249  4.157996       NaN\n",
              "3    1993/04   61.865984  4.124970       NaN\n",
              "4    1993/05   63.612900  4.152816       NaN\n",
              "..       ...         ...       ...       ...\n",
              "350  2022/03  111.940152  4.717964  0.003661\n",
              "351  2022/04  109.529866  4.696197  0.013414\n",
              "352  2022/05  114.442424  4.740072  0.021001\n",
              "353  2022/06  112.797501  4.725594  0.014522\n",
              "354  2022/07  111.274552  4.712001  0.012631\n",
              "\n",
              "[355 rows x 4 columns]"
            ],
            "text/html": [
              "\n",
              "  <div id=\"df-acd63ec7-6dda-4c71-a8eb-41a5af924dcd\">\n",
              "    <div class=\"colab-df-container\">\n",
              "      <div>\n",
              "<style scoped>\n",
              "    .dataframe tbody tr th:only-of-type {\n",
              "        vertical-align: middle;\n",
              "    }\n",
              "\n",
              "    .dataframe tbody tr th {\n",
              "        vertical-align: top;\n",
              "    }\n",
              "\n",
              "    .dataframe thead th {\n",
              "        text-align: right;\n",
              "    }\n",
              "</style>\n",
              "<table border=\"1\" class=\"dataframe\">\n",
              "  <thead>\n",
              "    <tr style=\"text-align: right;\">\n",
              "      <th></th>\n",
              "      <th>Periodo</th>\n",
              "      <th>Valor</th>\n",
              "      <th>lny</th>\n",
              "      <th>G</th>\n",
              "    </tr>\n",
              "  </thead>\n",
              "  <tbody>\n",
              "    <tr>\n",
              "      <th>0</th>\n",
              "      <td>1993/01</td>\n",
              "      <td>60.407691</td>\n",
              "      <td>4.101116</td>\n",
              "      <td>NaN</td>\n",
              "    </tr>\n",
              "    <tr>\n",
              "      <th>1</th>\n",
              "      <td>1993/02</td>\n",
              "      <td>61.022521</td>\n",
              "      <td>4.111243</td>\n",
              "      <td>NaN</td>\n",
              "    </tr>\n",
              "    <tr>\n",
              "      <th>2</th>\n",
              "      <td>1993/03</td>\n",
              "      <td>63.943249</td>\n",
              "      <td>4.157996</td>\n",
              "      <td>NaN</td>\n",
              "    </tr>\n",
              "    <tr>\n",
              "      <th>3</th>\n",
              "      <td>1993/04</td>\n",
              "      <td>61.865984</td>\n",
              "      <td>4.124970</td>\n",
              "      <td>NaN</td>\n",
              "    </tr>\n",
              "    <tr>\n",
              "      <th>4</th>\n",
              "      <td>1993/05</td>\n",
              "      <td>63.612900</td>\n",
              "      <td>4.152816</td>\n",
              "      <td>NaN</td>\n",
              "    </tr>\n",
              "    <tr>\n",
              "      <th>...</th>\n",
              "      <td>...</td>\n",
              "      <td>...</td>\n",
              "      <td>...</td>\n",
              "      <td>...</td>\n",
              "    </tr>\n",
              "    <tr>\n",
              "      <th>350</th>\n",
              "      <td>2022/03</td>\n",
              "      <td>111.940152</td>\n",
              "      <td>4.717964</td>\n",
              "      <td>0.003661</td>\n",
              "    </tr>\n",
              "    <tr>\n",
              "      <th>351</th>\n",
              "      <td>2022/04</td>\n",
              "      <td>109.529866</td>\n",
              "      <td>4.696197</td>\n",
              "      <td>0.013414</td>\n",
              "    </tr>\n",
              "    <tr>\n",
              "      <th>352</th>\n",
              "      <td>2022/05</td>\n",
              "      <td>114.442424</td>\n",
              "      <td>4.740072</td>\n",
              "      <td>0.021001</td>\n",
              "    </tr>\n",
              "    <tr>\n",
              "      <th>353</th>\n",
              "      <td>2022/06</td>\n",
              "      <td>112.797501</td>\n",
              "      <td>4.725594</td>\n",
              "      <td>0.014522</td>\n",
              "    </tr>\n",
              "    <tr>\n",
              "      <th>354</th>\n",
              "      <td>2022/07</td>\n",
              "      <td>111.274552</td>\n",
              "      <td>4.712001</td>\n",
              "      <td>0.012631</td>\n",
              "    </tr>\n",
              "  </tbody>\n",
              "</table>\n",
              "<p>355 rows × 4 columns</p>\n",
              "</div>\n",
              "      <button class=\"colab-df-convert\" onclick=\"convertToInteractive('df-acd63ec7-6dda-4c71-a8eb-41a5af924dcd')\"\n",
              "              title=\"Convert this dataframe to an interactive table.\"\n",
              "              style=\"display:none;\">\n",
              "        \n",
              "  <svg xmlns=\"http://www.w3.org/2000/svg\" height=\"24px\"viewBox=\"0 0 24 24\"\n",
              "       width=\"24px\">\n",
              "    <path d=\"M0 0h24v24H0V0z\" fill=\"none\"/>\n",
              "    <path d=\"M18.56 5.44l.94 2.06.94-2.06 2.06-.94-2.06-.94-.94-2.06-.94 2.06-2.06.94zm-11 1L8.5 8.5l.94-2.06 2.06-.94-2.06-.94L8.5 2.5l-.94 2.06-2.06.94zm10 10l.94 2.06.94-2.06 2.06-.94-2.06-.94-.94-2.06-.94 2.06-2.06.94z\"/><path d=\"M17.41 7.96l-1.37-1.37c-.4-.4-.92-.59-1.43-.59-.52 0-1.04.2-1.43.59L10.3 9.45l-7.72 7.72c-.78.78-.78 2.05 0 2.83L4 21.41c.39.39.9.59 1.41.59.51 0 1.02-.2 1.41-.59l7.78-7.78 2.81-2.81c.8-.78.8-2.07 0-2.86zM5.41 20L4 18.59l7.72-7.72 1.47 1.35L5.41 20z\"/>\n",
              "  </svg>\n",
              "      </button>\n",
              "      \n",
              "  <style>\n",
              "    .colab-df-container {\n",
              "      display:flex;\n",
              "      flex-wrap:wrap;\n",
              "      gap: 12px;\n",
              "    }\n",
              "\n",
              "    .colab-df-convert {\n",
              "      background-color: #E8F0FE;\n",
              "      border: none;\n",
              "      border-radius: 50%;\n",
              "      cursor: pointer;\n",
              "      display: none;\n",
              "      fill: #1967D2;\n",
              "      height: 32px;\n",
              "      padding: 0 0 0 0;\n",
              "      width: 32px;\n",
              "    }\n",
              "\n",
              "    .colab-df-convert:hover {\n",
              "      background-color: #E2EBFA;\n",
              "      box-shadow: 0px 1px 2px rgba(60, 64, 67, 0.3), 0px 1px 3px 1px rgba(60, 64, 67, 0.15);\n",
              "      fill: #174EA6;\n",
              "    }\n",
              "\n",
              "    [theme=dark] .colab-df-convert {\n",
              "      background-color: #3B4455;\n",
              "      fill: #D2E3FC;\n",
              "    }\n",
              "\n",
              "    [theme=dark] .colab-df-convert:hover {\n",
              "      background-color: #434B5C;\n",
              "      box-shadow: 0px 1px 3px 1px rgba(0, 0, 0, 0.15);\n",
              "      filter: drop-shadow(0px 1px 2px rgba(0, 0, 0, 0.3));\n",
              "      fill: #FFFFFF;\n",
              "    }\n",
              "  </style>\n",
              "\n",
              "      <script>\n",
              "        const buttonEl =\n",
              "          document.querySelector('#df-acd63ec7-6dda-4c71-a8eb-41a5af924dcd button.colab-df-convert');\n",
              "        buttonEl.style.display =\n",
              "          google.colab.kernel.accessAllowed ? 'block' : 'none';\n",
              "\n",
              "        async function convertToInteractive(key) {\n",
              "          const element = document.querySelector('#df-acd63ec7-6dda-4c71-a8eb-41a5af924dcd');\n",
              "          const dataTable =\n",
              "            await google.colab.kernel.invokeFunction('convertToInteractive',\n",
              "                                                     [key], {});\n",
              "          if (!dataTable) return;\n",
              "\n",
              "          const docLinkHtml = 'Like what you see? Visit the ' +\n",
              "            '<a target=\"_blank\" href=https://colab.research.google.com/notebooks/data_table.ipynb>data table notebook</a>'\n",
              "            + ' to learn more about interactive tables.';\n",
              "          element.innerHTML = '';\n",
              "          dataTable['output_type'] = 'display_data';\n",
              "          await google.colab.output.renderOutput(dataTable, element);\n",
              "          const docLink = document.createElement('div');\n",
              "          docLink.innerHTML = docLinkHtml;\n",
              "          element.appendChild(docLink);\n",
              "        }\n",
              "      </script>\n",
              "    </div>\n",
              "  </div>\n",
              "  "
            ]
          },
          "metadata": {},
          "execution_count": 818
        }
      ]
    },
    {
      "cell_type": "markdown",
      "source": [
        "Debido a que para los siguientes procesos ocupamos que no haya valores nulos, tendremos 2 datasets, uno con todos los registros y otro donde los registros no tengan ningun na"
      ],
      "metadata": {
        "id": "aksSJ7miyp4b"
      }
    },
    {
      "cell_type": "code",
      "source": [
        "df_vanilla = df_ind.copy()"
      ],
      "metadata": {
        "id": "0lR6RJ6n4pB8"
      },
      "execution_count": null,
      "outputs": []
    },
    {
      "cell_type": "code",
      "source": [
        "df_ind = df_ind.dropna()"
      ],
      "metadata": {
        "id": "lymLhesi25x6"
      },
      "execution_count": null,
      "outputs": []
    },
    {
      "cell_type": "code",
      "source": [
        "from statsmodels.tsa.stattools import adfuller\n",
        "d_test = adfuller(df_ind['G'])\n",
        "print('p-value: %f' % d_test[1])"
      ],
      "metadata": {
        "colab": {
          "base_uri": "https://localhost:8080/"
        },
        "id": "sevtriQJiCNX",
        "outputId": "cd1041b9-9df4-4054-b389-60e314768bc6"
      },
      "execution_count": null,
      "outputs": [
        {
          "output_type": "stream",
          "name": "stdout",
          "text": [
            "p-value: 0.003260\n"
          ]
        }
      ]
    },
    {
      "cell_type": "markdown",
      "source": [
        "Como podemos observar el p-value de nuestra variable es menor a 0.05, esto nos dice que con un valor de D = 1 y d = 0, nuestra variable ya es estacionaria."
      ],
      "metadata": {
        "id": "UQRKh-l83y5O"
      }
    },
    {
      "cell_type": "markdown",
      "source": [
        "Viendo que con un lag de 12 la variable se vuelve estacionaria le asignamos un valore de D = 1, d = 0 para nuestro modelo"
      ],
      "metadata": {
        "id": "4IgLJbpxIPFt"
      }
    },
    {
      "cell_type": "code",
      "source": [
        "D = 1\n",
        "d = 0"
      ],
      "metadata": {
        "id": "4WYj08DfIOUU"
      },
      "execution_count": null,
      "outputs": []
    },
    {
      "cell_type": "markdown",
      "source": [
        "**Definición de p y q**"
      ],
      "metadata": {
        "id": "XwuM9D2-g1C7"
      }
    },
    {
      "cell_type": "code",
      "source": [
        "plot_acf(df_ind.G, lags = 12)"
      ],
      "metadata": {
        "colab": {
          "base_uri": "https://localhost:8080/",
          "height": 545
        },
        "id": "iuU0Zq-xk8_i",
        "outputId": "60ec0b67-7d5e-4d4b-fa0c-fc31edcc1983"
      },
      "execution_count": null,
      "outputs": [
        {
          "output_type": "execute_result",
          "data": {
            "text/plain": [
              "<Figure size 432x288 with 1 Axes>"
            ],
            "image/png": "[encoded data removed]"
          },
          "metadata": {},
          "execution_count": 823
        },
        {
          "output_type": "display_data",
          "data": {
            "text/plain": [
              "<Figure size 432x288 with 1 Axes>"
            ],
            "image/png": "[encoded data removed]"
          },
          "metadata": {
            "needs_background": "light"
          }
        }
      ]
    },
    {
      "cell_type": "code",
      "source": [
        "plot_pacf(df_ind.G, lags = 12)"
      ],
      "metadata": {
        "colab": {
          "base_uri": "https://localhost:8080/",
          "height": 545
        },
        "id": "nzAdaNXXftuK",
        "outputId": "136f9789-6738-4479-a4d0-9d67f910b48f"
      },
      "execution_count": null,
      "outputs": [
        {
          "output_type": "execute_result",
          "data": {
            "text/plain": [
              "<Figure size 432x288 with 1 Axes>"
            ],
            "image/png": "[encoded data removed]"
          },
          "metadata": {},
          "execution_count": 824
        },
        {
          "output_type": "display_data",
          "data": {
            "text/plain": [
              "<Figure size 432x288 with 1 Axes>"
            ],
            "image/png": "[encoded data removed]"
          },
          "metadata": {
            "needs_background": "light"
          }
        }
      ]
    },
    {
      "cell_type": "markdown",
      "source": [
        "Podemos observar que solo hay una relación que es significativa, que es el registro anterior respecto a cada registro de la variable."
      ],
      "metadata": {
        "id": "-DnA4OaYzbt6"
      }
    },
    {
      "cell_type": "markdown",
      "source": [
        "Al ver esta tendencia de autocorrelación con un solo valor, se asigna el valor de 1 a p"
      ],
      "metadata": {
        "id": "IwASIetl0y5W"
      }
    },
    {
      "cell_type": "markdown",
      "source": [
        "Se asignaran los valores de p = 1, q = 0"
      ],
      "metadata": {
        "id": "My_uPSUn1C7m"
      }
    },
    {
      "cell_type": "code",
      "source": [
        "p = 1\n",
        "q = 0"
      ],
      "metadata": {
        "id": "VFjNftiUhqQY"
      },
      "execution_count": null,
      "outputs": []
    },
    {
      "cell_type": "markdown",
      "source": [
        "# Primer Modelo SARIMA(p = 1, d = 0 , q =0) (P = 0, D = 1, Q = 0)\n"
      ],
      "metadata": {
        "id": "roXOeXbW11Fs"
      }
    },
    {
      "cell_type": "code",
      "source": [
        "P = 0\n",
        "Q = 0"
      ],
      "metadata": {
        "id": "CvS3vq6x8zJ3"
      },
      "execution_count": null,
      "outputs": []
    },
    {
      "cell_type": "code",
      "source": [
        "import statsmodels.api as sm"
      ],
      "metadata": {
        "id": "Gv_bXIEc5MPN"
      },
      "execution_count": null,
      "outputs": []
    },
    {
      "cell_type": "code",
      "source": [
        "m1 = sm.tsa.statespace.SARIMAX(df_vanilla['lny'], order=(p,d,q), seasonal_order = (P,D,Q,12), trend='c',  simple_differencing=True)"
      ],
      "metadata": {
        "id": "8Rtd3d1K1c79"
      },
      "execution_count": null,
      "outputs": []
    },
    {
      "cell_type": "code",
      "source": [
        "m1_res = m1.fit(disp = 0)"
      ],
      "metadata": {
        "id": "N7Jufg7V5rgU"
      },
      "execution_count": null,
      "outputs": []
    },
    {
      "cell_type": "code",
      "source": [
        "print(m1_res.summary())"
      ],
      "metadata": {
        "colab": {
          "base_uri": "https://localhost:8080/"
        },
        "id": "-2vjAi-06RSt",
        "outputId": "998188fd-5f9a-4c4a-caa6-0b375f12a86a"
      },
      "execution_count": null,
      "outputs": [
        {
          "output_type": "stream",
          "name": "stdout",
          "text": [
            "                                     SARIMAX Results                                      \n",
            "==========================================================================================\n",
            "Dep. Variable:                           DS12.lny   No. Observations:                  343\n",
            "Model:             SARIMAX(1, 0, 0)x(0, 0, 0, 12)   Log Likelihood                 741.706\n",
            "Date:                            Tue, 25 Oct 2022   AIC                          -1477.413\n",
            "Time:                                    01:25:52   BIC                          -1465.899\n",
            "Sample:                                         0   HQIC                         -1472.827\n",
            "                                            - 343                                         \n",
            "Covariance Type:                              opg                                         \n",
            "==============================================================================\n",
            "                 coef    std err          z      P>|z|      [0.025      0.975]\n",
            "------------------------------------------------------------------------------\n",
            "intercept      0.0041      0.002      2.741      0.006       0.001       0.007\n",
            "ar.L1          0.7905      0.021     36.847      0.000       0.748       0.833\n",
            "sigma2         0.0008   2.09e-05     36.988      0.000       0.001       0.001\n",
            "===================================================================================\n",
            "Ljung-Box (L1) (Q):                   0.42   Jarque-Bera (JB):              3075.60\n",
            "Prob(Q):                              0.52   Prob(JB):                         0.00\n",
            "Heteroskedasticity (H):               2.24   Skew:                            -0.44\n",
            "Prob(H) (two-sided):                  0.00   Kurtosis:                        17.64\n",
            "===================================================================================\n",
            "\n",
            "Warnings:\n",
            "[1] Covariance matrix calculated using the outer product of gradients (complex-step).\n"
          ]
        }
      ]
    },
    {
      "cell_type": "markdown",
      "source": [
        "Hemos terminado el primer modelo, podemos ver que el lag1 es bastante signifativo para el modelo, con un p-value menor a 0.05 y con una magnitud de 0.7905, además vemos que el intercepto tiene un valor de 0.0041."
      ],
      "metadata": {
        "id": "dV9hbsWz-PmT"
      }
    },
    {
      "cell_type": "markdown",
      "source": [
        "Ahora ya teniendo nuestro primer modelo, vamos a ver los errores y como estos se comportan, por ello volveremos a visualizar los gráficos de ACF y PACF pero esta vez aplicados al error."
      ],
      "metadata": {
        "id": "VMKwe3nVAEL3"
      }
    },
    {
      "cell_type": "code",
      "source": [
        "plot_acf(m1_res.resid, lags = 12)"
      ],
      "metadata": {
        "colab": {
          "base_uri": "https://localhost:8080/",
          "height": 545
        },
        "id": "ANMZBHc16TD4",
        "outputId": "b388d809-7c8f-4124-d7ef-1137b9d1f89f"
      },
      "execution_count": null,
      "outputs": [
        {
          "output_type": "execute_result",
          "data": {
            "text/plain": [
              "<Figure size 432x288 with 1 Axes>"
            ],
            "image/png": "[encoded data removed]"
          },
          "metadata": {},
          "execution_count": 831
        },
        {
          "output_type": "display_data",
          "data": {
            "text/plain": [
              "<Figure size 432x288 with 1 Axes>"
            ],
            "image/png": "[encoded data removed]"
          },
          "metadata": {
            "needs_background": "light"
          }
        }
      ]
    },
    {
      "cell_type": "code",
      "source": [
        "plot_pacf(m1_res.resid, lags = 12)"
      ],
      "metadata": {
        "colab": {
          "base_uri": "https://localhost:8080/",
          "height": 545
        },
        "id": "2yqcMhP27RSZ",
        "outputId": "7e1db4d4-33fa-4174-fce6-e9620256997a"
      },
      "execution_count": null,
      "outputs": [
        {
          "output_type": "execute_result",
          "data": {
            "text/plain": [
              "<Figure size 432x288 with 1 Axes>"
            ],
            "image/png": "[encoded data removed]"
          },
          "metadata": {},
          "execution_count": 832
        },
        {
          "output_type": "display_data",
          "data": {
            "text/plain": [
              "<Figure size 432x288 with 1 Axes>"
            ],
            "image/png": "[encoded data removed]"
          },
          "metadata": {
            "needs_background": "light"
          }
        }
      ]
    },
    {
      "cell_type": "markdown",
      "source": [
        "Observamos que hay una fuerte autocorrelación negativa en el lag 12, al ver este tipo de patrones se asigna un valor de 1 a Q."
      ],
      "metadata": {
        "id": "QrTwxW1B4G8O"
      }
    },
    {
      "cell_type": "markdown",
      "source": [
        "Dado lo anterior crearemos un nuevo modelo\n"
      ],
      "metadata": {
        "id": "x_aDO83a-OM-"
      }
    },
    {
      "cell_type": "markdown",
      "source": [
        "# Segundo Modelo SARIMA(p = 1, d = 0 , q =0) (P = 0, D = 1, Q = 1)\n"
      ],
      "metadata": {
        "id": "NojV4kbxE-Hf"
      }
    },
    {
      "cell_type": "code",
      "source": [
        "Q = 1"
      ],
      "metadata": {
        "id": "BU5zujhf9z46"
      },
      "execution_count": null,
      "outputs": []
    },
    {
      "cell_type": "code",
      "source": [
        "m2 = sm.tsa.statespace.SARIMAX(df_vanilla['lny'], order=(p,d,q), seasonal_order = (P,D,Q,12),  trend='c',  simple_differencing=True)"
      ],
      "metadata": {
        "id": "L8aCUtBGCWs1"
      },
      "execution_count": null,
      "outputs": []
    },
    {
      "cell_type": "code",
      "source": [
        "m2_res = m2.fit()"
      ],
      "metadata": {
        "id": "QJOmeVBZCWs2"
      },
      "execution_count": null,
      "outputs": []
    },
    {
      "cell_type": "code",
      "source": [
        "print(m2_res.summary())"
      ],
      "metadata": {
        "colab": {
          "base_uri": "https://localhost:8080/"
        },
        "outputId": "1ad77f27-0ff5-4ef3-98d7-2505e7a7a293",
        "id": "fbA92h-BCWs2"
      },
      "execution_count": null,
      "outputs": [
        {
          "output_type": "stream",
          "name": "stdout",
          "text": [
            "                                      SARIMAX Results                                       \n",
            "============================================================================================\n",
            "Dep. Variable:                             DS12.lny   No. Observations:                  343\n",
            "Model:             SARIMAX(1, 0, 0)x(0, 0, [1], 12)   Log Likelihood                 805.821\n",
            "Date:                              Tue, 25 Oct 2022   AIC                          -1603.642\n",
            "Time:                                      01:25:54   BIC                          -1588.291\n",
            "Sample:                                           0   HQIC                         -1597.528\n",
            "                                              - 343                                         \n",
            "Covariance Type:                                opg                                         \n",
            "==============================================================================\n",
            "                 coef    std err          z      P>|z|      [0.025      0.975]\n",
            "------------------------------------------------------------------------------\n",
            "intercept      0.0025      0.000      6.274      0.000       0.002       0.003\n",
            "ar.L1          0.8793      0.019     46.540      0.000       0.842       0.916\n",
            "ma.S.L12      -0.8405      0.047    -17.882      0.000      -0.933      -0.748\n",
            "sigma2         0.0005   1.33e-05     38.347      0.000       0.000       0.001\n",
            "===================================================================================\n",
            "Ljung-Box (L1) (Q):                   4.60   Jarque-Bera (JB):              7790.41\n",
            "Prob(Q):                              0.03   Prob(JB):                         0.00\n",
            "Heteroskedasticity (H):               2.08   Skew:                            -2.30\n",
            "Prob(H) (two-sided):                  0.00   Kurtosis:                        25.89\n",
            "===================================================================================\n",
            "\n",
            "Warnings:\n",
            "[1] Covariance matrix calculated using the outer product of gradients (complex-step).\n"
          ]
        }
      ]
    },
    {
      "cell_type": "markdown",
      "source": [
        "Ahora ya teniendo nuestro segundo modelo, vamos a ver los errores y como estos se comportan, por ello volveremos a visualizar los gráficos de ACF y PACF pero esta vez aplicados al error."
      ],
      "metadata": {
        "id": "6yXTsdxXCWs3"
      }
    },
    {
      "cell_type": "code",
      "source": [
        "plot_acf(m2_res.resid, lags = 12)"
      ],
      "metadata": {
        "colab": {
          "base_uri": "https://localhost:8080/",
          "height": 545
        },
        "outputId": "bdb6dfee-2a37-479f-cf54-ecb9bdea6741",
        "id": "YQuCZW34CWs3"
      },
      "execution_count": null,
      "outputs": [
        {
          "output_type": "execute_result",
          "data": {
            "text/plain": [
              "<Figure size 432x288 with 1 Axes>"
            ],
            "image/png": "[encoded data removed]"
          },
          "metadata": {},
          "execution_count": 837
        },
        {
          "output_type": "display_data",
          "data": {
            "text/plain": [
              "<Figure size 432x288 with 1 Axes>"
            ],
            "image/png": "[encoded data removed]"
          },
          "metadata": {
            "needs_background": "light"
          }
        }
      ]
    },
    {
      "cell_type": "code",
      "source": [
        "plot_pacf(m2_res.resid, lags = 12)"
      ],
      "metadata": {
        "colab": {
          "base_uri": "https://localhost:8080/",
          "height": 545
        },
        "outputId": "6bbed341-f2cb-4d6f-d63a-d1253c364c27",
        "id": "yJOydb3cCWs3"
      },
      "execution_count": null,
      "outputs": [
        {
          "output_type": "execute_result",
          "data": {
            "text/plain": [
              "<Figure size 432x288 with 1 Axes>"
            ],
            "image/png": "[encoded data removed]"
          },
          "metadata": {},
          "execution_count": 838
        },
        {
          "output_type": "display_data",
          "data": {
            "text/plain": [
              "<Figure size 432x288 with 1 Axes>"
            ],
            "image/png": "[encoded data removed]"
          },
          "metadata": {
            "needs_background": "light"
          }
        }
      ]
    },
    {
      "cell_type": "markdown",
      "source": [
        "El valor del error anterior parece que sobresale por encima del 0.95% de significancia, por ello crearemos un nuevo modelo en donde el valor nuevo de q sera 1"
      ],
      "metadata": {
        "id": "3h_0jDhV8YMW"
      }
    },
    {
      "cell_type": "markdown",
      "source": [
        "# Tercer Modelo SARIMA(p = 1, d = 0 , q =1) (P = 0, D = 1, Q = 1)\n"
      ],
      "metadata": {
        "id": "fZL6ZOBK5Sqm"
      }
    },
    {
      "cell_type": "code",
      "source": [
        "q = 1"
      ],
      "metadata": {
        "id": "CFKrIC9M4zzJ"
      },
      "execution_count": null,
      "outputs": []
    },
    {
      "cell_type": "code",
      "source": [
        "m3 = sm.tsa.statespace.SARIMAX(df_vanilla['Valor'], order=(p,d,q), seasonal_order = (P,D,Q,12),  trend='c',  simple_differencing=True)"
      ],
      "metadata": {
        "id": "LfwRaSDP4xFw"
      },
      "execution_count": null,
      "outputs": []
    },
    {
      "cell_type": "code",
      "source": [
        "m3_res = m3.fit()"
      ],
      "metadata": {
        "id": "pP1mPQXR4xF8"
      },
      "execution_count": null,
      "outputs": []
    },
    {
      "cell_type": "code",
      "source": [
        "print(m3_res.summary())"
      ],
      "metadata": {
        "colab": {
          "base_uri": "https://localhost:8080/"
        },
        "outputId": "95b27d2b-3248-4041-f9f3-089262de1dc5",
        "id": "Kv2TbnQj4xF8"
      },
      "execution_count": null,
      "outputs": [
        {
          "output_type": "stream",
          "name": "stdout",
          "text": [
            "                                     SARIMAX Results                                      \n",
            "==========================================================================================\n",
            "Dep. Variable:                         DS12.Valor   No. Observations:                  343\n",
            "Model:             SARIMAX(1, 0, 1)x(0, 0, 1, 12)   Log Likelihood                -743.398\n",
            "Date:                            Tue, 25 Oct 2022   AIC                           1496.795\n",
            "Time:                                    01:25:55   BIC                           1515.984\n",
            "Sample:                                         0   HQIC                          1504.439\n",
            "                                            - 343                                         \n",
            "Covariance Type:                              opg                                         \n",
            "==============================================================================\n",
            "                 coef    std err          z      P>|z|      [0.025      0.975]\n",
            "------------------------------------------------------------------------------\n",
            "intercept      0.2018      0.048      4.187      0.000       0.107       0.296\n",
            "ar.L1          0.8855      0.026     34.027      0.000       0.834       0.936\n",
            "ma.L1         -0.1551      0.040     -3.921      0.000      -0.233      -0.078\n",
            "ma.S.L12      -0.8131      0.043    -19.048      0.000      -0.897      -0.729\n",
            "sigma2         4.2908      0.107     39.975      0.000       4.080       4.501\n",
            "===================================================================================\n",
            "Ljung-Box (L1) (Q):                   0.06   Jarque-Bera (JB):             15172.55\n",
            "Prob(Q):                              0.80   Prob(JB):                         0.00\n",
            "Heteroskedasticity (H):               4.69   Skew:                            -3.24\n",
            "Prob(H) (two-sided):                  0.00   Kurtosis:                        34.93\n",
            "===================================================================================\n",
            "\n",
            "Warnings:\n",
            "[1] Covariance matrix calculated using the outer product of gradients (complex-step).\n"
          ]
        }
      ]
    },
    {
      "cell_type": "markdown",
      "source": [
        "Ahora ya teniendo nuestro tercer modelo, vamos a ver los errores y como estos se comportan."
      ],
      "metadata": {
        "id": "ZPDAuqF04xF9"
      }
    },
    {
      "cell_type": "code",
      "source": [
        "plot_acf(m3_res.resid, lags = 12)"
      ],
      "metadata": {
        "colab": {
          "base_uri": "https://localhost:8080/",
          "height": 545
        },
        "outputId": "5b3fc1b6-7cda-4dec-8245-366371bd1b8a",
        "id": "lLS9BkIT4xF9"
      },
      "execution_count": null,
      "outputs": [
        {
          "output_type": "execute_result",
          "data": {
            "text/plain": [
              "<Figure size 432x288 with 1 Axes>"
            ],
            "image/png": "[encoded data removed]"
          },
          "metadata": {},
          "execution_count": 843
        },
        {
          "output_type": "display_data",
          "data": {
            "text/plain": [
              "<Figure size 432x288 with 1 Axes>"
            ],
            "image/png": "[encoded data removed]"
          },
          "metadata": {
            "needs_background": "light"
          }
        }
      ]
    },
    {
      "cell_type": "code",
      "source": [
        "plot_pacf(m3_res.resid, lags = 12)"
      ],
      "metadata": {
        "colab": {
          "base_uri": "https://localhost:8080/",
          "height": 545
        },
        "outputId": "ad0428ed-54b9-4b44-d213-8a32e10686d1",
        "id": "bzVT-8er4xF9"
      },
      "execution_count": null,
      "outputs": [
        {
          "output_type": "execute_result",
          "data": {
            "text/plain": [
              "<Figure size 432x288 with 1 Axes>"
            ],
            "image/png": "[encoded data removed]"
          },
          "metadata": {},
          "execution_count": 844
        },
        {
          "output_type": "display_data",
          "data": {
            "text/plain": [
              "<Figure size 432x288 with 1 Axes>"
            ],
            "image/png": "[encoded data removed]"
          },
          "metadata": {
            "needs_background": "light"
          }
        }
      ]
    },
    {
      "cell_type": "markdown",
      "source": [
        "Podemos ver que con este tercer modelo se ha logrado practimante un White Noise, lo que nos quiere decir que ya no hay más variables significativas."
      ],
      "metadata": {
        "id": "kkD9ZdyYELRY"
      }
    },
    {
      "cell_type": "markdown",
      "source": [
        "Con este modelo final podemos observar que todos los valores asignados al modelo tienen una alta significancia ya que todos tienen un p value menor a 0.05."
      ],
      "metadata": {
        "id": "2XuesTG8phGJ"
      }
    },
    {
      "cell_type": "markdown",
      "source": [
        "Tanto el intercepto como el valor de AR tienen una magnitud postiva con 0.2018 y 0.8855 respectivamente, por el contrario los valores de MA tienen magnitures negativas una con -0.1551 y la otra con -0.8131."
      ],
      "metadata": {
        "id": "pQMYecelp5Y0"
      }
    },
    {
      "cell_type": "markdown",
      "source": [
        "# Predicción"
      ],
      "metadata": {
        "id": "xM_nHF7SKBMn"
      }
    },
    {
      "cell_type": "markdown",
      "source": [
        "Ahora ya teniendo nuestro modelo podemos hacer predicciones a futuro"
      ],
      "metadata": {
        "id": "kyXvh0oLlizO"
      }
    },
    {
      "cell_type": "code",
      "source": [
        "import math"
      ],
      "metadata": {
        "id": "fovBCXyYUzPs"
      },
      "execution_count": null,
      "outputs": []
    },
    {
      "cell_type": "code",
      "source": [
        "fm = sm.tsa.statespace.SARIMAX(df_vanilla['Valor'], order=(p,d,q), seasonal_order = (P,D,Q,12),  trend='c')\n",
        "fm_res = fm.fit()"
      ],
      "metadata": {
        "id": "yGeQB0mAY9sF"
      },
      "execution_count": null,
      "outputs": []
    },
    {
      "cell_type": "markdown",
      "source": [
        "Vamos  hacer una predicción un año hacia el futuro"
      ],
      "metadata": {
        "id": "xZRCxP86lqXM"
      }
    },
    {
      "cell_type": "code",
      "source": [
        "yhat = fm_res.predict(start=0, end=(len(df_vanilla)+27))"
      ],
      "metadata": {
        "id": "vDdGNZswVfBI"
      },
      "execution_count": null,
      "outputs": []
    },
    {
      "cell_type": "code",
      "source": [
        "df_vanilla = df_vanilla[['Valor', 'Periodo']]"
      ],
      "metadata": {
        "id": "XhbKyzp7ckVU"
      },
      "execution_count": null,
      "outputs": []
    },
    {
      "cell_type": "markdown",
      "source": [
        "Se crean los campos para los nuevos años"
      ],
      "metadata": {
        "id": "lpW23QlXlvwi"
      }
    },
    {
      "cell_type": "code",
      "source": [
        "df_vanilla = df_vanilla.append(pd.Series([math.nan,'2022/07'], index=['Valor','Periodo']), ignore_index=True)\n",
        "df_vanilla = df_vanilla.append(pd.Series([math.nan,'2022/08'], index=['Valor','Periodo']), ignore_index=True)\n",
        "df_vanilla = df_vanilla.append(pd.Series([math.nan,'2022/09'], index=['Valor','Periodo']), ignore_index=True)\n",
        "df_vanilla = df_vanilla.append(pd.Series([math.nan,'2022/10'], index=['Valor','Periodo']), ignore_index=True)\n",
        "df_vanilla = df_vanilla.append(pd.Series([math.nan,'2022/11'], index=['Valor','Periodo']), ignore_index=True)\n",
        "df_vanilla = df_vanilla.append(pd.Series([math.nan,'2022/12'], index=['Valor','Periodo']), ignore_index=True)\n",
        "df_vanilla = df_vanilla.append(pd.Series([math.nan,'2023/01'], index=['Valor','Periodo']), ignore_index=True)\n",
        "df_vanilla = df_vanilla.append(pd.Series([math.nan,'2023/02'], index=['Valor','Periodo']), ignore_index=True)\n",
        "df_vanilla = df_vanilla.append(pd.Series([math.nan,'2023/03'], index=['Valor','Periodo']), ignore_index=True)\n",
        "df_vanilla = df_vanilla.append(pd.Series([math.nan,'2023/04'], index=['Valor','Periodo']), ignore_index=True)\n",
        "df_vanilla = df_vanilla.append(pd.Series([math.nan,'2023/05'], index=['Valor','Periodo']), ignore_index=True)\n",
        "df_vanilla = df_vanilla.append(pd.Series([math.nan,'2023/06'], index=['Valor','Periodo']), ignore_index=True)\n",
        "\n",
        "\n",
        "df_vanilla = df_vanilla.append(pd.Series([math.nan,'2023/07'], index=['Valor','Periodo']), ignore_index=True)\n",
        "df_vanilla = df_vanilla.append(pd.Series([math.nan,'2023/08'], index=['Valor','Periodo']), ignore_index=True)\n",
        "df_vanilla = df_vanilla.append(pd.Series([math.nan,'2023/09'], index=['Valor','Periodo']), ignore_index=True)\n",
        "df_vanilla = df_vanilla.append(pd.Series([math.nan,'2023/10'], index=['Valor','Periodo']), ignore_index=True)\n",
        "df_vanilla = df_vanilla.append(pd.Series([math.nan,'2023/11'], index=['Valor','Periodo']), ignore_index=True)\n",
        "df_vanilla = df_vanilla.append(pd.Series([math.nan,'2023/12'], index=['Valor','Periodo']), ignore_index=True)\n",
        "df_vanilla = df_vanilla.append(pd.Series([math.nan,'2024/01'], index=['Valor','Periodo']), ignore_index=True)\n",
        "df_vanilla = df_vanilla.append(pd.Series([math.nan,'2024/02'], index=['Valor','Periodo']), ignore_index=True)\n",
        "df_vanilla = df_vanilla.append(pd.Series([math.nan,'2024/03'], index=['Valor','Periodo']), ignore_index=True)\n",
        "df_vanilla = df_vanilla.append(pd.Series([math.nan,'2024/04'], index=['Valor','Periodo']), ignore_index=True)\n",
        "df_vanilla = df_vanilla.append(pd.Series([math.nan,'2024/05'], index=['Valor','Periodo']), ignore_index=True)\n",
        "df_vanilla = df_vanilla.append(pd.Series([math.nan,'2024/06'], index=['Valor','Periodo']), ignore_index=True)\n",
        "\n",
        "df_vanilla = df_vanilla.append(pd.Series([math.nan,'2024/07'], index=['Valor','Periodo']), ignore_index=True)\n",
        "df_vanilla = df_vanilla.append(pd.Series([math.nan,'2024/08'], index=['Valor','Periodo']), ignore_index=True)\n",
        "df_vanilla = df_vanilla.append(pd.Series([math.nan,'2024/09'], index=['Valor','Periodo']), ignore_index=True)\n",
        "\n"
      ],
      "metadata": {
        "id": "qLVEdqv4dhSJ"
      },
      "execution_count": null,
      "outputs": []
    },
    {
      "cell_type": "code",
      "source": [
        "df_vanilla['Forecast'] = yhat"
      ],
      "metadata": {
        "id": "edPdWIoAhUlo"
      },
      "execution_count": null,
      "outputs": []
    },
    {
      "cell_type": "code",
      "source": [
        "df_vanilla = df_vanilla.reset_index(drop = True)"
      ],
      "metadata": {
        "id": "dlcuakNmakFa"
      },
      "execution_count": null,
      "outputs": []
    },
    {
      "cell_type": "code",
      "source": [
        "df_vanilla = df_vanilla.set_index(['Periodo'], drop=True)"
      ],
      "metadata": {
        "id": "n4bixZZtbHSk"
      },
      "execution_count": null,
      "outputs": []
    },
    {
      "cell_type": "markdown",
      "source": [
        "**Predicción historica**"
      ],
      "metadata": {
        "id": "5kP7d06Vl8Em"
      }
    },
    {
      "cell_type": "code",
      "source": [
        "df_vanilla.iloc[13:367].plot()"
      ],
      "metadata": {
        "colab": {
          "base_uri": "https://localhost:8080/",
          "height": 299
        },
        "id": "MiWayy7ri12R",
        "outputId": "5a5a45fa-92f3-48c7-ce05-e81b47b8eb4f"
      },
      "execution_count": null,
      "outputs": [
        {
          "output_type": "execute_result",
          "data": {
            "text/plain": [
              "<matplotlib.axes._subplots.AxesSubplot at 0x7f90ef650c10>"
            ]
          },
          "metadata": {},
          "execution_count": 853
        },
        {
          "output_type": "display_data",
          "data": {
            "text/plain": [
              "<Figure size 432x288 with 1 Axes>"
            ],
            "image/png": "[encoded data removed]"
          },
          "metadata": {
            "needs_background": "light"
          }
        }
      ]
    },
    {
      "cell_type": "markdown",
      "source": [
        "**Último año que tenemos más año predecido**"
      ],
      "metadata": {
        "id": "qzqQZM2CmI1X"
      }
    },
    {
      "cell_type": "code",
      "source": [
        "df_vanilla.iloc[350:382].plot()"
      ],
      "metadata": {
        "colab": {
          "base_uri": "https://localhost:8080/",
          "height": 297
        },
        "id": "tQD-slyceZrm",
        "outputId": "7209ee68-d85c-4002-92d3-3a4e45725828"
      },
      "execution_count": null,
      "outputs": [
        {
          "output_type": "execute_result",
          "data": {
            "text/plain": [
              "<matplotlib.axes._subplots.AxesSubplot at 0x7f90ef62a690>"
            ]
          },
          "metadata": {},
          "execution_count": 854
        },
        {
          "output_type": "display_data",
          "data": {
            "text/plain": [
              "<Figure size 432x288 with 1 Axes>"
            ],
            "image/png": "[encoded data removed]"
          },
          "metadata": {
            "needs_background": "light"
          }
        }
      ]
    },
    {
      "cell_type": "code",
      "source": [
        "df_vanilla.iloc[350:382]"
      ],
      "metadata": {
        "colab": {
          "base_uri": "https://localhost:8080/",
          "height": 1000
        },
        "id": "4nnx5Q1ev338",
        "outputId": "e9a39645-ff36-40a8-8914-267231f2d861"
      },
      "execution_count": null,
      "outputs": [
        {
          "output_type": "execute_result",
          "data": {
            "text/plain": [
              "              Valor    Forecast\n",
              "Periodo                        \n",
              "2022/03  111.940152  110.536417\n",
              "2022/04  109.529866  107.286271\n",
              "2022/05  114.442424  112.812716\n",
              "2022/06  112.797501  114.890360\n",
              "2022/07  111.274552  113.200330\n",
              "2022/07         NaN  111.758150\n",
              "2022/08         NaN  109.378845\n",
              "2022/09         NaN  115.124389\n",
              "2022/10         NaN  117.445089\n",
              "2022/11         NaN  116.231165\n",
              "2022/12         NaN  112.805801\n",
              "2023/01         NaN  110.433589\n",
              "2023/02         NaN  115.546805\n",
              "2023/03         NaN  111.277943\n",
              "2023/04         NaN  115.149873\n",
              "2023/05         NaN  115.532995\n",
              "2023/06         NaN  115.200485\n",
              "2023/07         NaN  115.193357\n",
              "2023/08         NaN  112.622400\n",
              "2023/09         NaN  118.198243\n",
              "2023/10         NaN  120.368677\n",
              "2023/11         NaN  119.021697\n",
              "2023/12         NaN  115.478515\n",
              "2024/01         NaN  113.001979\n",
              "2024/02         NaN  118.022819\n",
              "2024/03         NaN  113.672161\n",
              "2024/04         NaN  117.471662\n",
              "2024/05         NaN  117.790651\n",
              "2024/06         NaN  117.401353\n",
              "2024/07         NaN  117.343941\n",
              "2024/08         NaN  114.728459\n",
              "2024/09         NaN  120.264875"
            ],
            "text/html": [
              "\n",
              "  <div id=\"df-6f1d0f46-becc-47ad-9e3b-38f1d79f4832\">\n",
              "    <div class=\"colab-df-container\">\n",
              "      <div>\n",
              "<style scoped>\n",
              "    .dataframe tbody tr th:only-of-type {\n",
              "        vertical-align: middle;\n",
              "    }\n",
              "\n",
              "    .dataframe tbody tr th {\n",
              "        vertical-align: top;\n",
              "    }\n",
              "\n",
              "    .dataframe thead th {\n",
              "        text-align: right;\n",
              "    }\n",
              "</style>\n",
              "<table border=\"1\" class=\"dataframe\">\n",
              "  <thead>\n",
              "    <tr style=\"text-align: right;\">\n",
              "      <th></th>\n",
              "      <th>Valor</th>\n",
              "      <th>Forecast</th>\n",
              "    </tr>\n",
              "    <tr>\n",
              "      <th>Periodo</th>\n",
              "      <th></th>\n",
              "      <th></th>\n",
              "    </tr>\n",
              "  </thead>\n",
              "  <tbody>\n",
              "    <tr>\n",
              "      <th>2022/03</th>\n",
              "      <td>111.940152</td>\n",
              "      <td>110.536417</td>\n",
              "    </tr>\n",
              "    <tr>\n",
              "      <th>2022/04</th>\n",
              "      <td>109.529866</td>\n",
              "      <td>107.286271</td>\n",
              "    </tr>\n",
              "    <tr>\n",
              "      <th>2022/05</th>\n",
              "      <td>114.442424</td>\n",
              "      <td>112.812716</td>\n",
              "    </tr>\n",
              "    <tr>\n",
              "      <th>2022/06</th>\n",
              "      <td>112.797501</td>\n",
              "      <td>114.890360</td>\n",
              "    </tr>\n",
              "    <tr>\n",
              "      <th>2022/07</th>\n",
              "      <td>111.274552</td>\n",
              "      <td>113.200330</td>\n",
              "    </tr>\n",
              "    <tr>\n",
              "      <th>2022/07</th>\n",
              "      <td>NaN</td>\n",
              "      <td>111.758150</td>\n",
              "    </tr>\n",
              "    <tr>\n",
              "      <th>2022/08</th>\n",
              "      <td>NaN</td>\n",
              "      <td>109.378845</td>\n",
              "    </tr>\n",
              "    <tr>\n",
              "      <th>2022/09</th>\n",
              "      <td>NaN</td>\n",
              "      <td>115.124389</td>\n",
              "    </tr>\n",
              "    <tr>\n",
              "      <th>2022/10</th>\n",
              "      <td>NaN</td>\n",
              "      <td>117.445089</td>\n",
              "    </tr>\n",
              "    <tr>\n",
              "      <th>2022/11</th>\n",
              "      <td>NaN</td>\n",
              "      <td>116.231165</td>\n",
              "    </tr>\n",
              "    <tr>\n",
              "      <th>2022/12</th>\n",
              "      <td>NaN</td>\n",
              "      <td>112.805801</td>\n",
              "    </tr>\n",
              "    <tr>\n",
              "      <th>2023/01</th>\n",
              "      <td>NaN</td>\n",
              "      <td>110.433589</td>\n",
              "    </tr>\n",
              "    <tr>\n",
              "      <th>2023/02</th>\n",
              "      <td>NaN</td>\n",
              "      <td>115.546805</td>\n",
              "    </tr>\n",
              "    <tr>\n",
              "      <th>2023/03</th>\n",
              "      <td>NaN</td>\n",
              "      <td>111.277943</td>\n",
              "    </tr>\n",
              "    <tr>\n",
              "      <th>2023/04</th>\n",
              "      <td>NaN</td>\n",
              "      <td>115.149873</td>\n",
              "    </tr>\n",
              "    <tr>\n",
              "      <th>2023/05</th>\n",
              "      <td>NaN</td>\n",
              "      <td>115.532995</td>\n",
              "    </tr>\n",
              "    <tr>\n",
              "      <th>2023/06</th>\n",
              "      <td>NaN</td>\n",
              "      <td>115.200485</td>\n",
              "    </tr>\n",
              "    <tr>\n",
              "      <th>2023/07</th>\n",
              "      <td>NaN</td>\n",
              "      <td>115.193357</td>\n",
              "    </tr>\n",
              "    <tr>\n",
              "      <th>2023/08</th>\n",
              "      <td>NaN</td>\n",
              "      <td>112.622400</td>\n",
              "    </tr>\n",
              "    <tr>\n",
              "      <th>2023/09</th>\n",
              "      <td>NaN</td>\n",
              "      <td>118.198243</td>\n",
              "    </tr>\n",
              "    <tr>\n",
              "      <th>2023/10</th>\n",
              "      <td>NaN</td>\n",
              "      <td>120.368677</td>\n",
              "    </tr>\n",
              "    <tr>\n",
              "      <th>2023/11</th>\n",
              "      <td>NaN</td>\n",
              "      <td>119.021697</td>\n",
              "    </tr>\n",
              "    <tr>\n",
              "      <th>2023/12</th>\n",
              "      <td>NaN</td>\n",
              "      <td>115.478515</td>\n",
              "    </tr>\n",
              "    <tr>\n",
              "      <th>2024/01</th>\n",
              "      <td>NaN</td>\n",
              "      <td>113.001979</td>\n",
              "    </tr>\n",
              "    <tr>\n",
              "      <th>2024/02</th>\n",
              "      <td>NaN</td>\n",
              "      <td>118.022819</td>\n",
              "    </tr>\n",
              "    <tr>\n",
              "      <th>2024/03</th>\n",
              "      <td>NaN</td>\n",
              "      <td>113.672161</td>\n",
              "    </tr>\n",
              "    <tr>\n",
              "      <th>2024/04</th>\n",
              "      <td>NaN</td>\n",
              "      <td>117.471662</td>\n",
              "    </tr>\n",
              "    <tr>\n",
              "      <th>2024/05</th>\n",
              "      <td>NaN</td>\n",
              "      <td>117.790651</td>\n",
              "    </tr>\n",
              "    <tr>\n",
              "      <th>2024/06</th>\n",
              "      <td>NaN</td>\n",
              "      <td>117.401353</td>\n",
              "    </tr>\n",
              "    <tr>\n",
              "      <th>2024/07</th>\n",
              "      <td>NaN</td>\n",
              "      <td>117.343941</td>\n",
              "    </tr>\n",
              "    <tr>\n",
              "      <th>2024/08</th>\n",
              "      <td>NaN</td>\n",
              "      <td>114.728459</td>\n",
              "    </tr>\n",
              "    <tr>\n",
              "      <th>2024/09</th>\n",
              "      <td>NaN</td>\n",
              "      <td>120.264875</td>\n",
              "    </tr>\n",
              "  </tbody>\n",
              "</table>\n",
              "</div>\n",
              "      <button class=\"colab-df-convert\" onclick=\"convertToInteractive('df-6f1d0f46-becc-47ad-9e3b-38f1d79f4832')\"\n",
              "              title=\"Convert this dataframe to an interactive table.\"\n",
              "              style=\"display:none;\">\n",
              "        \n",
              "  <svg xmlns=\"http://www.w3.org/2000/svg\" height=\"24px\"viewBox=\"0 0 24 24\"\n",
              "       width=\"24px\">\n",
              "    <path d=\"M0 0h24v24H0V0z\" fill=\"none\"/>\n",
              "    <path d=\"M18.56 5.44l.94 2.06.94-2.06 2.06-.94-2.06-.94-.94-2.06-.94 2.06-2.06.94zm-11 1L8.5 8.5l.94-2.06 2.06-.94-2.06-.94L8.5 2.5l-.94 2.06-2.06.94zm10 10l.94 2.06.94-2.06 2.06-.94-2.06-.94-.94-2.06-.94 2.06-2.06.94z\"/><path d=\"M17.41 7.96l-1.37-1.37c-.4-.4-.92-.59-1.43-.59-.52 0-1.04.2-1.43.59L10.3 9.45l-7.72 7.72c-.78.78-.78 2.05 0 2.83L4 21.41c.39.39.9.59 1.41.59.51 0 1.02-.2 1.41-.59l7.78-7.78 2.81-2.81c.8-.78.8-2.07 0-2.86zM5.41 20L4 18.59l7.72-7.72 1.47 1.35L5.41 20z\"/>\n",
              "  </svg>\n",
              "      </button>\n",
              "      \n",
              "  <style>\n",
              "    .colab-df-container {\n",
              "      display:flex;\n",
              "      flex-wrap:wrap;\n",
              "      gap: 12px;\n",
              "    }\n",
              "\n",
              "    .colab-df-convert {\n",
              "      background-color: #E8F0FE;\n",
              "      border: none;\n",
              "      border-radius: 50%;\n",
              "      cursor: pointer;\n",
              "      display: none;\n",
              "      fill: #1967D2;\n",
              "      height: 32px;\n",
              "      padding: 0 0 0 0;\n",
              "      width: 32px;\n",
              "    }\n",
              "\n",
              "    .colab-df-convert:hover {\n",
              "      background-color: #E2EBFA;\n",
              "      box-shadow: 0px 1px 2px rgba(60, 64, 67, 0.3), 0px 1px 3px 1px rgba(60, 64, 67, 0.15);\n",
              "      fill: #174EA6;\n",
              "    }\n",
              "\n",
              "    [theme=dark] .colab-df-convert {\n",
              "      background-color: #3B4455;\n",
              "      fill: #D2E3FC;\n",
              "    }\n",
              "\n",
              "    [theme=dark] .colab-df-convert:hover {\n",
              "      background-color: #434B5C;\n",
              "      box-shadow: 0px 1px 3px 1px rgba(0, 0, 0, 0.15);\n",
              "      filter: drop-shadow(0px 1px 2px rgba(0, 0, 0, 0.3));\n",
              "      fill: #FFFFFF;\n",
              "    }\n",
              "  </style>\n",
              "\n",
              "      <script>\n",
              "        const buttonEl =\n",
              "          document.querySelector('#df-6f1d0f46-becc-47ad-9e3b-38f1d79f4832 button.colab-df-convert');\n",
              "        buttonEl.style.display =\n",
              "          google.colab.kernel.accessAllowed ? 'block' : 'none';\n",
              "\n",
              "        async function convertToInteractive(key) {\n",
              "          const element = document.querySelector('#df-6f1d0f46-becc-47ad-9e3b-38f1d79f4832');\n",
              "          const dataTable =\n",
              "            await google.colab.kernel.invokeFunction('convertToInteractive',\n",
              "                                                     [key], {});\n",
              "          if (!dataTable) return;\n",
              "\n",
              "          const docLinkHtml = 'Like what you see? Visit the ' +\n",
              "            '<a target=\"_blank\" href=https://colab.research.google.com/notebooks/data_table.ipynb>data table notebook</a>'\n",
              "            + ' to learn more about interactive tables.';\n",
              "          element.innerHTML = '';\n",
              "          dataTable['output_type'] = 'display_data';\n",
              "          await google.colab.output.renderOutput(dataTable, element);\n",
              "          const docLink = document.createElement('div');\n",
              "          docLink.innerHTML = docLinkHtml;\n",
              "          element.appendChild(docLink);\n",
              "        }\n",
              "      </script>\n",
              "    </div>\n",
              "  </div>\n",
              "  "
            ]
          },
          "metadata": {},
          "execution_count": 856
        }
      ]
    },
    {
      "cell_type": "markdown",
      "source": [
        "Como se ve, hasta el final del sexenio (SEP 2024) sigue comportandose con el patron similar de los años anteriores además de seguir con la tendencia creciente de todos los años, según esta predicción la economia volvera al mismo valor que teniamos a inicios del 2019."
      ],
      "metadata": {
        "id": "qw2qd2zqwbE_"
      }
    },
    {
      "cell_type": "code",
      "source": [
        "%%shell\n",
        "jupyter nbconvert --to html /content/gdrive/MyDrive/IA/Estadistica/Entregable2Pt2.ipynb"
      ],
      "metadata": {
        "colab": {
          "base_uri": "https://localhost:8080/"
        },
        "id": "1PMSkQvn274c",
        "outputId": "5af6d496-ae8c-4102-9d17-0217d399d920"
      },
      "execution_count": null,
      "outputs": [
        {
          "output_type": "stream",
          "name": "stdout",
          "text": [
            "[NbConvertApp] Converting notebook /content/gdrive/MyDrive/IA/Estadistica/Entregable2Pt2.ipynb to html\n",
            "[NbConvertApp] Writing 569965 bytes to /content/gdrive/MyDrive/IA/Estadistica/Entregable2Pt2.html\n"
          ]
        },
        {
          "output_type": "execute_result",
          "data": {
            "text/plain": []
          },
          "metadata": {},
          "execution_count": 857
        }
      ]
    },
    {
      "cell_type": "code",
      "source": [],
      "metadata": {
        "id": "Ym2EBVBO3YMR"
      },
      "execution_count": null,
      "outputs": []
    }
  ]
}