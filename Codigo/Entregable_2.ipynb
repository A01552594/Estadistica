{
  "nbformat": 4,
  "nbformat_minor": 0,
  "metadata": {
    "colab": {
      "provenance": [],
      "collapsed_sections": [
        "-1li-bBxYgTo",
        "doxPn0OqZrbW",
        "klmxtZDlw_8q"
      ]
    },
    "kernelspec": {
      "name": "python3",
      "display_name": "Python 3"
    },
    "language_info": {
      "name": "python"
    }
  },
  "cells": [
    {
      "cell_type": "code",
      "execution_count": null,
      "metadata": {
        "id": "6LuBxefMkvLX",
        "colab": {
          "base_uri": "https://localhost:8080/"
        },
        "outputId": "0507c080-c815-4a87-9fc2-fcad26201b9d"
      },
      "outputs": [
        {
          "output_type": "stream",
          "name": "stdout",
          "text": [
            "Drive already mounted at /content/gdrive; to attempt to forcibly remount, call drive.mount(\"/content/gdrive\", force_remount=True).\n"
          ]
        }
      ],
      "source": [
        "from google.colab import drive\n",
        "\n",
        "drive.mount(\"/content/gdrive\") "
      ]
    },
    {
      "cell_type": "code",
      "source": [
        "%cd \"/content/gdrive/MyDrive/Bloque 2 IA/Estadistica/Entregable 2\"\n",
        "!ls"
      ],
      "metadata": {
        "colab": {
          "base_uri": "https://localhost:8080/"
        },
        "id": "JWl_8-TEl2GH",
        "outputId": "2271e513-1b1e-4626-c57b-76b122b302e3"
      },
      "execution_count": null,
      "outputs": [
        {
          "output_type": "stream",
          "name": "stdout",
          "text": [
            "/content/gdrive/MyDrive/Bloque 2 IA/Estadistica/Entregable 2\n",
            "'Entregable 2.ipynb'   Indicadores.xlsx\n"
          ]
        }
      ]
    },
    {
      "cell_type": "code",
      "source": [
        "import pandas as pd\n",
        "import numpy as np\n",
        "from statsmodels.graphics.tsaplots import plot_acf, plot_pacf"
      ],
      "metadata": {
        "id": "hBFge2yfl4q-"
      },
      "execution_count": null,
      "outputs": []
    },
    {
      "cell_type": "markdown",
      "source": [
        "# Entregable 2"
      ],
      "metadata": {
        "id": "p3y9BPKHYb4H"
      }
    },
    {
      "cell_type": "markdown",
      "source": [
        "## Lectura de datos"
      ],
      "metadata": {
        "id": "-1li-bBxYgTo"
      }
    },
    {
      "cell_type": "code",
      "source": [
        "df = pd.read_excel('Indicadores.xlsx')\n",
        "df"
      ],
      "metadata": {
        "id": "e5_ezNCkl6aE",
        "colab": {
          "base_uri": "https://localhost:8080/"
        },
        "outputId": "6807a64d-9e60-4131-fbc7-b45c0364e6aa"
      },
      "execution_count": null,
      "outputs": [
        {
          "output_type": "execute_result",
          "data": {
            "text/plain": [
              "     Periodo       Valor\n",
              "0    2022/07  111.274552\n",
              "1    2022/06  112.797501\n",
              "2    2022/05  114.442424\n",
              "3    2022/04  109.529866\n",
              "4    2022/03  111.940152\n",
              "..       ...         ...\n",
              "350  1993/05   63.612900\n",
              "351  1993/04   61.865984\n",
              "352  1993/03   63.943249\n",
              "353  1993/02   61.022521\n",
              "354  1993/01   60.407691\n",
              "\n",
              "[355 rows x 2 columns]"
            ],
            "text/html": [
              "\n",
              "  <div id=\"df-41ea7244-1740-4a7b-8067-227e3e83f4e1\">\n",
              "    <div class=\"colab-df-container\">\n",
              "      <div>\n",
              "<style scoped>\n",
              "    .dataframe tbody tr th:only-of-type {\n",
              "        vertical-align: middle;\n",
              "    }\n",
              "\n",
              "    .dataframe tbody tr th {\n",
              "        vertical-align: top;\n",
              "    }\n",
              "\n",
              "    .dataframe thead th {\n",
              "        text-align: right;\n",
              "    }\n",
              "</style>\n",
              "<table border=\"1\" class=\"dataframe\">\n",
              "  <thead>\n",
              "    <tr style=\"text-align: right;\">\n",
              "      <th></th>\n",
              "      <th>Periodo</th>\n",
              "      <th>Valor</th>\n",
              "    </tr>\n",
              "  </thead>\n",
              "  <tbody>\n",
              "    <tr>\n",
              "      <th>0</th>\n",
              "      <td>2022/07</td>\n",
              "      <td>111.274552</td>\n",
              "    </tr>\n",
              "    <tr>\n",
              "      <th>1</th>\n",
              "      <td>2022/06</td>\n",
              "      <td>112.797501</td>\n",
              "    </tr>\n",
              "    <tr>\n",
              "      <th>2</th>\n",
              "      <td>2022/05</td>\n",
              "      <td>114.442424</td>\n",
              "    </tr>\n",
              "    <tr>\n",
              "      <th>3</th>\n",
              "      <td>2022/04</td>\n",
              "      <td>109.529866</td>\n",
              "    </tr>\n",
              "    <tr>\n",
              "      <th>4</th>\n",
              "      <td>2022/03</td>\n",
              "      <td>111.940152</td>\n",
              "    </tr>\n",
              "    <tr>\n",
              "      <th>...</th>\n",
              "      <td>...</td>\n",
              "      <td>...</td>\n",
              "    </tr>\n",
              "    <tr>\n",
              "      <th>350</th>\n",
              "      <td>1993/05</td>\n",
              "      <td>63.612900</td>\n",
              "    </tr>\n",
              "    <tr>\n",
              "      <th>351</th>\n",
              "      <td>1993/04</td>\n",
              "      <td>61.865984</td>\n",
              "    </tr>\n",
              "    <tr>\n",
              "      <th>352</th>\n",
              "      <td>1993/03</td>\n",
              "      <td>63.943249</td>\n",
              "    </tr>\n",
              "    <tr>\n",
              "      <th>353</th>\n",
              "      <td>1993/02</td>\n",
              "      <td>61.022521</td>\n",
              "    </tr>\n",
              "    <tr>\n",
              "      <th>354</th>\n",
              "      <td>1993/01</td>\n",
              "      <td>60.407691</td>\n",
              "    </tr>\n",
              "  </tbody>\n",
              "</table>\n",
              "<p>355 rows × 2 columns</p>\n",
              "</div>\n",
              "      <button class=\"colab-df-convert\" onclick=\"convertToInteractive('df-41ea7244-1740-4a7b-8067-227e3e83f4e1')\"\n",
              "              title=\"Convert this dataframe to an interactive table.\"\n",
              "              style=\"display:none;\">\n",
              "        \n",
              "  <svg xmlns=\"http://www.w3.org/2000/svg\" height=\"24px\"viewBox=\"0 0 24 24\"\n",
              "       width=\"24px\">\n",
              "    <path d=\"M0 0h24v24H0V0z\" fill=\"none\"/>\n",
              "    <path d=\"M18.56 5.44l.94 2.06.94-2.06 2.06-.94-2.06-.94-.94-2.06-.94 2.06-2.06.94zm-11 1L8.5 8.5l.94-2.06 2.06-.94-2.06-.94L8.5 2.5l-.94 2.06-2.06.94zm10 10l.94 2.06.94-2.06 2.06-.94-2.06-.94-.94-2.06-.94 2.06-2.06.94z\"/><path d=\"M17.41 7.96l-1.37-1.37c-.4-.4-.92-.59-1.43-.59-.52 0-1.04.2-1.43.59L10.3 9.45l-7.72 7.72c-.78.78-.78 2.05 0 2.83L4 21.41c.39.39.9.59 1.41.59.51 0 1.02-.2 1.41-.59l7.78-7.78 2.81-2.81c.8-.78.8-2.07 0-2.86zM5.41 20L4 18.59l7.72-7.72 1.47 1.35L5.41 20z\"/>\n",
              "  </svg>\n",
              "      </button>\n",
              "      \n",
              "  <style>\n",
              "    .colab-df-container {\n",
              "      display:flex;\n",
              "      flex-wrap:wrap;\n",
              "      gap: 12px;\n",
              "    }\n",
              "\n",
              "    .colab-df-convert {\n",
              "      background-color: #E8F0FE;\n",
              "      border: none;\n",
              "      border-radius: 50%;\n",
              "      cursor: pointer;\n",
              "      display: none;\n",
              "      fill: #1967D2;\n",
              "      height: 32px;\n",
              "      padding: 0 0 0 0;\n",
              "      width: 32px;\n",
              "    }\n",
              "\n",
              "    .colab-df-convert:hover {\n",
              "      background-color: #E2EBFA;\n",
              "      box-shadow: 0px 1px 2px rgba(60, 64, 67, 0.3), 0px 1px 3px 1px rgba(60, 64, 67, 0.15);\n",
              "      fill: #174EA6;\n",
              "    }\n",
              "\n",
              "    [theme=dark] .colab-df-convert {\n",
              "      background-color: #3B4455;\n",
              "      fill: #D2E3FC;\n",
              "    }\n",
              "\n",
              "    [theme=dark] .colab-df-convert:hover {\n",
              "      background-color: #434B5C;\n",
              "      box-shadow: 0px 1px 3px 1px rgba(0, 0, 0, 0.15);\n",
              "      filter: drop-shadow(0px 1px 2px rgba(0, 0, 0, 0.3));\n",
              "      fill: #FFFFFF;\n",
              "    }\n",
              "  </style>\n",
              "\n",
              "      <script>\n",
              "        const buttonEl =\n",
              "          document.querySelector('#df-41ea7244-1740-4a7b-8067-227e3e83f4e1 button.colab-df-convert');\n",
              "        buttonEl.style.display =\n",
              "          google.colab.kernel.accessAllowed ? 'block' : 'none';\n",
              "\n",
              "        async function convertToInteractive(key) {\n",
              "          const element = document.querySelector('#df-41ea7244-1740-4a7b-8067-227e3e83f4e1');\n",
              "          const dataTable =\n",
              "            await google.colab.kernel.invokeFunction('convertToInteractive',\n",
              "                                                     [key], {});\n",
              "          if (!dataTable) return;\n",
              "\n",
              "          const docLinkHtml = 'Like what you see? Visit the ' +\n",
              "            '<a target=\"_blank\" href=https://colab.research.google.com/notebooks/data_table.ipynb>data table notebook</a>'\n",
              "            + ' to learn more about interactive tables.';\n",
              "          element.innerHTML = '';\n",
              "          dataTable['output_type'] = 'display_data';\n",
              "          await google.colab.output.renderOutput(dataTable, element);\n",
              "          const docLink = document.createElement('div');\n",
              "          docLink.innerHTML = docLinkHtml;\n",
              "          element.appendChild(docLink);\n",
              "        }\n",
              "      </script>\n",
              "    </div>\n",
              "  </div>\n",
              "  "
            ]
          },
          "metadata": {},
          "execution_count": 4
        }
      ]
    },
    {
      "cell_type": "markdown",
      "source": [
        "Sorteamos los valores segun el periodo, receteamos y dropeamos los index para poder reordenar de forma periodica los datos"
      ],
      "metadata": {
        "id": "hs2yx4PlYi_t"
      }
    },
    {
      "cell_type": "code",
      "source": [
        "df = df.sort_values(by='Periodo')\n",
        "df = df.reset_index(drop=True)"
      ],
      "metadata": {
        "id": "7aL0ni0umm_u"
      },
      "execution_count": null,
      "outputs": []
    },
    {
      "cell_type": "markdown",
      "source": [
        "##Realizar pruebas estadísticas de estacionariedad y decide el tipo de transformación de la variable"
      ],
      "metadata": {
        "id": "doxPn0OqZrbW"
      }
    },
    {
      "cell_type": "markdown",
      "source": [
        "Podemos ver segun el plot de 'Valor' que nuestra variable es no estacionaria, ya que tiene un crecimiento visible"
      ],
      "metadata": {
        "id": "5fxL5mXXZd6h"
      }
    },
    {
      "cell_type": "code",
      "source": [
        "df['Valor'].plot()"
      ],
      "metadata": {
        "colab": {
          "base_uri": "https://localhost:8080/"
        },
        "id": "M8x2GN-lXodF",
        "outputId": "5d3421a0-33c6-4937-ecf1-2f97abd45095"
      },
      "execution_count": null,
      "outputs": [
        {
          "output_type": "execute_result",
          "data": {
            "text/plain": [
              "<matplotlib.axes._subplots.AxesSubplot at 0x7fca4b86ea10>"
            ]
          },
          "metadata": {},
          "execution_count": 6
        },
        {
          "output_type": "display_data",
          "data": {
            "text/plain": [
              "<Figure size 432x288 with 1 Axes>"
            ],
            "image/png": "[encoded data removed]"
          },
          "metadata": {
            "needs_background": "light"
          }
        }
      ]
    },
    {
      "cell_type": "markdown",
      "source": [
        "Calculamos la diferencia entre el logaritmo de los valores anuales del crecimiento indice de volumen fisico base, esto con el fin de estacionarizar los datos "
      ],
      "metadata": {
        "id": "lVzgLqNHYwKO"
      }
    },
    {
      "cell_type": "code",
      "source": [
        "df['lnair'] = np.log(df['Valor'])  - np.log(df['Valor']).shift(12)\n",
        "df"
      ],
      "metadata": {
        "colab": {
          "base_uri": "https://localhost:8080/"
        },
        "id": "LVvK1iz1ECUb",
        "outputId": "a196c903-3505-4b78-b7a0-d9e41e4c239c"
      },
      "execution_count": null,
      "outputs": [
        {
          "output_type": "execute_result",
          "data": {
            "text/plain": [
              "     Periodo       Valor     lnair\n",
              "0    1993/01   60.407691       NaN\n",
              "1    1993/02   61.022521       NaN\n",
              "2    1993/03   63.943249       NaN\n",
              "3    1993/04   61.865984       NaN\n",
              "4    1993/05   63.612900       NaN\n",
              "..       ...         ...       ...\n",
              "350  2022/03  111.940152  0.003661\n",
              "351  2022/04  109.529866  0.013414\n",
              "352  2022/05  114.442424  0.021001\n",
              "353  2022/06  112.797501  0.014522\n",
              "354  2022/07  111.274552  0.012631\n",
              "\n",
              "[355 rows x 3 columns]"
            ],
            "text/html": [
              "\n",
              "  <div id=\"df-6f923295-946b-4f95-8ed6-cffcb0947386\">\n",
              "    <div class=\"colab-df-container\">\n",
              "      <div>\n",
              "<style scoped>\n",
              "    .dataframe tbody tr th:only-of-type {\n",
              "        vertical-align: middle;\n",
              "    }\n",
              "\n",
              "    .dataframe tbody tr th {\n",
              "        vertical-align: top;\n",
              "    }\n",
              "\n",
              "    .dataframe thead th {\n",
              "        text-align: right;\n",
              "    }\n",
              "</style>\n",
              "<table border=\"1\" class=\"dataframe\">\n",
              "  <thead>\n",
              "    <tr style=\"text-align: right;\">\n",
              "      <th></th>\n",
              "      <th>Periodo</th>\n",
              "      <th>Valor</th>\n",
              "      <th>lnair</th>\n",
              "    </tr>\n",
              "  </thead>\n",
              "  <tbody>\n",
              "    <tr>\n",
              "      <th>0</th>\n",
              "      <td>1993/01</td>\n",
              "      <td>60.407691</td>\n",
              "      <td>NaN</td>\n",
              "    </tr>\n",
              "    <tr>\n",
              "      <th>1</th>\n",
              "      <td>1993/02</td>\n",
              "      <td>61.022521</td>\n",
              "      <td>NaN</td>\n",
              "    </tr>\n",
              "    <tr>\n",
              "      <th>2</th>\n",
              "      <td>1993/03</td>\n",
              "      <td>63.943249</td>\n",
              "      <td>NaN</td>\n",
              "    </tr>\n",
              "    <tr>\n",
              "      <th>3</th>\n",
              "      <td>1993/04</td>\n",
              "      <td>61.865984</td>\n",
              "      <td>NaN</td>\n",
              "    </tr>\n",
              "    <tr>\n",
              "      <th>4</th>\n",
              "      <td>1993/05</td>\n",
              "      <td>63.612900</td>\n",
              "      <td>NaN</td>\n",
              "    </tr>\n",
              "    <tr>\n",
              "      <th>...</th>\n",
              "      <td>...</td>\n",
              "      <td>...</td>\n",
              "      <td>...</td>\n",
              "    </tr>\n",
              "    <tr>\n",
              "      <th>350</th>\n",
              "      <td>2022/03</td>\n",
              "      <td>111.940152</td>\n",
              "      <td>0.003661</td>\n",
              "    </tr>\n",
              "    <tr>\n",
              "      <th>351</th>\n",
              "      <td>2022/04</td>\n",
              "      <td>109.529866</td>\n",
              "      <td>0.013414</td>\n",
              "    </tr>\n",
              "    <tr>\n",
              "      <th>352</th>\n",
              "      <td>2022/05</td>\n",
              "      <td>114.442424</td>\n",
              "      <td>0.021001</td>\n",
              "    </tr>\n",
              "    <tr>\n",
              "      <th>353</th>\n",
              "      <td>2022/06</td>\n",
              "      <td>112.797501</td>\n",
              "      <td>0.014522</td>\n",
              "    </tr>\n",
              "    <tr>\n",
              "      <th>354</th>\n",
              "      <td>2022/07</td>\n",
              "      <td>111.274552</td>\n",
              "      <td>0.012631</td>\n",
              "    </tr>\n",
              "  </tbody>\n",
              "</table>\n",
              "<p>355 rows × 3 columns</p>\n",
              "</div>\n",
              "      <button class=\"colab-df-convert\" onclick=\"convertToInteractive('df-6f923295-946b-4f95-8ed6-cffcb0947386')\"\n",
              "              title=\"Convert this dataframe to an interactive table.\"\n",
              "              style=\"display:none;\">\n",
              "        \n",
              "  <svg xmlns=\"http://www.w3.org/2000/svg\" height=\"24px\"viewBox=\"0 0 24 24\"\n",
              "       width=\"24px\">\n",
              "    <path d=\"M0 0h24v24H0V0z\" fill=\"none\"/>\n",
              "    <path d=\"M18.56 5.44l.94 2.06.94-2.06 2.06-.94-2.06-.94-.94-2.06-.94 2.06-2.06.94zm-11 1L8.5 8.5l.94-2.06 2.06-.94-2.06-.94L8.5 2.5l-.94 2.06-2.06.94zm10 10l.94 2.06.94-2.06 2.06-.94-2.06-.94-.94-2.06-.94 2.06-2.06.94z\"/><path d=\"M17.41 7.96l-1.37-1.37c-.4-.4-.92-.59-1.43-.59-.52 0-1.04.2-1.43.59L10.3 9.45l-7.72 7.72c-.78.78-.78 2.05 0 2.83L4 21.41c.39.39.9.59 1.41.59.51 0 1.02-.2 1.41-.59l7.78-7.78 2.81-2.81c.8-.78.8-2.07 0-2.86zM5.41 20L4 18.59l7.72-7.72 1.47 1.35L5.41 20z\"/>\n",
              "  </svg>\n",
              "      </button>\n",
              "      \n",
              "  <style>\n",
              "    .colab-df-container {\n",
              "      display:flex;\n",
              "      flex-wrap:wrap;\n",
              "      gap: 12px;\n",
              "    }\n",
              "\n",
              "    .colab-df-convert {\n",
              "      background-color: #E8F0FE;\n",
              "      border: none;\n",
              "      border-radius: 50%;\n",
              "      cursor: pointer;\n",
              "      display: none;\n",
              "      fill: #1967D2;\n",
              "      height: 32px;\n",
              "      padding: 0 0 0 0;\n",
              "      width: 32px;\n",
              "    }\n",
              "\n",
              "    .colab-df-convert:hover {\n",
              "      background-color: #E2EBFA;\n",
              "      box-shadow: 0px 1px 2px rgba(60, 64, 67, 0.3), 0px 1px 3px 1px rgba(60, 64, 67, 0.15);\n",
              "      fill: #174EA6;\n",
              "    }\n",
              "\n",
              "    [theme=dark] .colab-df-convert {\n",
              "      background-color: #3B4455;\n",
              "      fill: #D2E3FC;\n",
              "    }\n",
              "\n",
              "    [theme=dark] .colab-df-convert:hover {\n",
              "      background-color: #434B5C;\n",
              "      box-shadow: 0px 1px 3px 1px rgba(0, 0, 0, 0.15);\n",
              "      filter: drop-shadow(0px 1px 2px rgba(0, 0, 0, 0.3));\n",
              "      fill: #FFFFFF;\n",
              "    }\n",
              "  </style>\n",
              "\n",
              "      <script>\n",
              "        const buttonEl =\n",
              "          document.querySelector('#df-6f923295-946b-4f95-8ed6-cffcb0947386 button.colab-df-convert');\n",
              "        buttonEl.style.display =\n",
              "          google.colab.kernel.accessAllowed ? 'block' : 'none';\n",
              "\n",
              "        async function convertToInteractive(key) {\n",
              "          const element = document.querySelector('#df-6f923295-946b-4f95-8ed6-cffcb0947386');\n",
              "          const dataTable =\n",
              "            await google.colab.kernel.invokeFunction('convertToInteractive',\n",
              "                                                     [key], {});\n",
              "          if (!dataTable) return;\n",
              "\n",
              "          const docLinkHtml = 'Like what you see? Visit the ' +\n",
              "            '<a target=\"_blank\" href=https://colab.research.google.com/notebooks/data_table.ipynb>data table notebook</a>'\n",
              "            + ' to learn more about interactive tables.';\n",
              "          element.innerHTML = '';\n",
              "          dataTable['output_type'] = 'display_data';\n",
              "          await google.colab.output.renderOutput(dataTable, element);\n",
              "          const docLink = document.createElement('div');\n",
              "          docLink.innerHTML = docLinkHtml;\n",
              "          element.appendChild(docLink);\n",
              "        }\n",
              "      </script>\n",
              "    </div>\n",
              "  </div>\n",
              "  "
            ]
          },
          "metadata": {},
          "execution_count": 7
        }
      ]
    },
    {
      "cell_type": "markdown",
      "source": [
        "Dropeamos nans"
      ],
      "metadata": {
        "id": "fPG-CLW0ZZsr"
      }
    },
    {
      "cell_type": "code",
      "source": [
        "df = df.dropna()"
      ],
      "metadata": {
        "id": "QN53gA8oHZRR"
      },
      "execution_count": null,
      "outputs": []
    },
    {
      "cell_type": "code",
      "source": [
        "df['lnair'].plot()"
      ],
      "metadata": {
        "colab": {
          "base_uri": "https://localhost:8080/"
        },
        "id": "87Bzr94tW3RM",
        "outputId": "cae0a0ae-3316-4ec6-c49a-993e52ebf65d"
      },
      "execution_count": null,
      "outputs": [
        {
          "output_type": "execute_result",
          "data": {
            "text/plain": [
              "<matplotlib.axes._subplots.AxesSubplot at 0x7fca4b801c90>"
            ]
          },
          "metadata": {},
          "execution_count": 9
        },
        {
          "output_type": "display_data",
          "data": {
            "text/plain": [
              "<Figure size 432x288 with 1 Axes>"
            ],
            "image/png": "[encoded data removed]"
          },
          "metadata": {
            "needs_background": "light"
          }
        }
      ]
    },
    {
      "cell_type": "markdown",
      "source": [
        "Con este grafico, podemos ver cierta tendencia a estacionaridad, pero para poder comprobar esto, usaremos el Dicky-Fuller test\n",
        "\n",
        "https://www.statology.org/dickey-fuller-test-python/"
      ],
      "metadata": {
        "id": "gNLJm_nZakkG"
      }
    },
    {
      "cell_type": "code",
      "source": [
        "from statsmodels.tsa.stattools import adfuller\n",
        "\n",
        "p_value = adfuller(df['lnair'])\n",
        "p_value[1]"
      ],
      "metadata": {
        "colab": {
          "base_uri": "https://localhost:8080/"
        },
        "id": "o1MFn8zZFrDi",
        "outputId": "0ca8a169-4266-48ac-855b-6483a3ce3a24"
      },
      "execution_count": null,
      "outputs": [
        {
          "output_type": "execute_result",
          "data": {
            "text/plain": [
              "0.0032602635688594108"
            ]
          },
          "metadata": {},
          "execution_count": 10
        }
      ]
    },
    {
      "cell_type": "markdown",
      "source": [
        "Podemos ver que tenemos un p-value de 0.00320, por lo que posemos usar los valores de D = 1 y d = 0 para calcular el porcentaje de cambio anual segun el mes, debido a que nuestra variable ya es estacionaria y con esto proseguimos a usar un modelo ARIMA-SARIMA"
      ],
      "metadata": {
        "id": "5KQ0liMkHQbT"
      }
    },
    {
      "cell_type": "markdown",
      "source": [
        "## Calibra un modelo ARIMA-SARIMA basado en pruebas y gráficos de autocorrelaciones . Explica claramente el proceso de calibración y la razón de cómo va modificando los parámetros."
      ],
      "metadata": {
        "id": "jahm-6JTche9"
      }
    },
    {
      "cell_type": "markdown",
      "source": [
        "Realizamos el grafico de autocorrelaciones (ACF) y una autocorrelacion parcial de los datos(PACF) para conocer la aucorrelacion de los datos con sus lags"
      ],
      "metadata": {
        "id": "w-mkeUebf1T7"
      }
    },
    {
      "cell_type": "code",
      "source": [
        "plot_acf(df['lnair'], lags = 12)"
      ],
      "metadata": {
        "colab": {
          "base_uri": "https://localhost:8080/"
        },
        "id": "o99F1fZ6F8gJ",
        "outputId": "692c552a-b1a1-44f0-b681-0c08650275d3"
      },
      "execution_count": null,
      "outputs": [
        {
          "output_type": "execute_result",
          "data": {
            "text/plain": [
              "<Figure size 432x288 with 1 Axes>"
            ],
            "image/png": "[encoded data removed]"
          },
          "metadata": {},
          "execution_count": 11
        },
        {
          "output_type": "display_data",
          "data": {
            "text/plain": [
              "<Figure size 432x288 with 1 Axes>"
            ],
            "image/png": "[encoded data removed]"
          },
          "metadata": {
            "needs_background": "light"
          }
        }
      ]
    },
    {
      "cell_type": "code",
      "source": [
        "plot_pacf(df['lnair'], lags = 12)"
      ],
      "metadata": {
        "colab": {
          "base_uri": "https://localhost:8080/"
        },
        "id": "LrbDGj9RF9_N",
        "outputId": "d2957601-a985-4b9c-e423-36421f4208a5"
      },
      "execution_count": null,
      "outputs": [
        {
          "output_type": "execute_result",
          "data": {
            "text/plain": [
              "<Figure size 432x288 with 1 Axes>"
            ],
            "image/png": "[encoded data removed]"
          },
          "metadata": {},
          "execution_count": 12
        },
        {
          "output_type": "display_data",
          "data": {
            "text/plain": [
              "<Figure size 432x288 with 1 Axes>"
            ],
            "image/png": "[encoded data removed]"
          },
          "metadata": {
            "needs_background": "light"
          }
        }
      ]
    },
    {
      "cell_type": "markdown",
      "source": [
        "En el grafico de autocorrelacion, podemos ver que esta va descendiendo, entre mayor el lag, y nos damos cueta que los lags anteriores a 7 se encuentran por encima del 95% de significancia.\n",
        "\n",
        "Por otro lado, en la autocorrelacion parcial unicamente se ve una autocorrelacion explictiva en el primer lag.\n",
        "\n",
        "Debido a esto, tomaremos un valor de p = 1 y q = 0\n"
      ],
      "metadata": {
        "id": "qyT1rOaoj_Dl"
      }
    },
    {
      "cell_type": "markdown",
      "source": [
        "##Estimacion del modelo ARIMA-SARIMA"
      ],
      "metadata": {
        "id": "SPKJGYmT0NBy"
      }
    },
    {
      "cell_type": "markdown",
      "source": [
        "Variables para el modelo ARIMA-SARIMA"
      ],
      "metadata": {
        "id": "7xXRQlzK0JsY"
      }
    },
    {
      "cell_type": "markdown",
      "source": [
        "###Modelo 1"
      ],
      "metadata": {
        "id": "oCmTSJQCw7lZ"
      }
    },
    {
      "cell_type": "code",
      "source": [
        "#Arima(1,0,0)\n",
        "p = 1\n",
        "q = 0\n",
        "d = 0\n",
        "\n",
        "#SARIMA(0,0,1,12)\n",
        "P = 0\n",
        "Q = 0\n",
        "D = 1\n",
        "num_per = 12"
      ],
      "metadata": {
        "id": "6mc-2sbhKoZv"
      },
      "execution_count": null,
      "outputs": []
    },
    {
      "cell_type": "code",
      "source": [
        "import statsmodels.api as sm\n",
        "\n",
        "df['y'] = np.log(df['Valor'])\n",
        "model1 = sm.tsa.statespace.SARIMAX(df['y'], order = (p, d, q), seasonal_order = (P, D, Q, num_per), trend = 'c',  simple_differencing = True)\n",
        "aux = model1.fit()\n",
        "print(aux.summary())"
      ],
      "metadata": {
        "id": "t3z2H85XLDyh",
        "colab": {
          "base_uri": "https://localhost:8080/"
        },
        "outputId": "7e9be349-b5ac-4f86-d7ce-bc896d5c1a35"
      },
      "execution_count": null,
      "outputs": [
        {
          "output_type": "stream",
          "name": "stderr",
          "text": [
            "/usr/local/lib/python3.7/dist-packages/ipykernel_launcher.py:3: SettingWithCopyWarning: \n",
            "A value is trying to be set on a copy of a slice from a DataFrame.\n",
            "Try using .loc[row_indexer,col_indexer] = value instead\n",
            "\n",
            "See the caveats in the documentation: https://pandas.pydata.org/pandas-docs/stable/user_guide/indexing.html#returning-a-view-versus-a-copy\n",
            "  This is separate from the ipykernel package so we can avoid doing imports until\n",
            "/usr/local/lib/python3.7/dist-packages/statsmodels/tsa/base/tsa_model.py:579: ValueWarning: An unsupported index was provided and will be ignored when e.g. forecasting.\n",
            "  ' ignored when e.g. forecasting.', ValueWarning)\n",
            "/usr/local/lib/python3.7/dist-packages/statsmodels/tsa/base/tsa_model.py:579: ValueWarning: An unsupported index was provided and will be ignored when e.g. forecasting.\n",
            "  ' ignored when e.g. forecasting.', ValueWarning)\n"
          ]
        },
        {
          "output_type": "stream",
          "name": "stdout",
          "text": [
            "                                     SARIMAX Results                                      \n",
            "==========================================================================================\n",
            "Dep. Variable:                             DS12.y   No. Observations:                  331\n",
            "Model:             SARIMAX(1, 0, 0)x(0, 0, 0, 12)   Log Likelihood                 712.497\n",
            "Date:                            Mon, 24 Oct 2022   AIC                          -1418.994\n",
            "Time:                                    16:44:35   BIC                          -1407.588\n",
            "Sample:                                         0   HQIC                         -1414.445\n",
            "                                            - 331                                         \n",
            "Covariance Type:                              opg                                         \n",
            "==============================================================================\n",
            "                 coef    std err          z      P>|z|      [0.025      0.975]\n",
            "------------------------------------------------------------------------------\n",
            "intercept      0.0039      0.002      2.545      0.011       0.001       0.007\n",
            "ar.L1          0.7882      0.022     35.878      0.000       0.745       0.831\n",
            "sigma2         0.0008   2.17e-05     36.239      0.000       0.001       0.001\n",
            "===================================================================================\n",
            "Ljung-Box (L1) (Q):                   0.28   Jarque-Bera (JB):              2937.77\n",
            "Prob(Q):                              0.60   Prob(JB):                         0.00\n",
            "Heteroskedasticity (H):               2.23   Skew:                            -0.43\n",
            "Prob(H) (two-sided):                  0.00   Kurtosis:                        17.57\n",
            "===================================================================================\n",
            "\n",
            "Warnings:\n",
            "[1] Covariance matrix calculated using the outer product of gradients (complex-step).\n"
          ]
        }
      ]
    },
    {
      "cell_type": "code",
      "source": [
        "plot_acf(aux.resid, lags = 12)"
      ],
      "metadata": {
        "id": "7i26gzV5Lq44",
        "colab": {
          "base_uri": "https://localhost:8080/"
        },
        "outputId": "44589db1-86dc-4109-b006-b6dca01164dd"
      },
      "execution_count": null,
      "outputs": [
        {
          "output_type": "execute_result",
          "data": {
            "text/plain": [
              "<Figure size 432x288 with 1 Axes>"
            ],
            "image/png": "[encoded data removed]"
          },
          "metadata": {},
          "execution_count": 15
        },
        {
          "output_type": "display_data",
          "data": {
            "text/plain": [
              "<Figure size 432x288 with 1 Axes>"
            ],
            "image/png": "[encoded data removed]"
          },
          "metadata": {
            "needs_background": "light"
          }
        }
      ]
    },
    {
      "cell_type": "code",
      "source": [
        "plot_pacf(aux.resid, lags = 12)"
      ],
      "metadata": {
        "id": "k-TQ9Mw5Lssx",
        "colab": {
          "base_uri": "https://localhost:8080/"
        },
        "outputId": "d0b12a72-fded-4c39-e4d8-aeddea4845d0"
      },
      "execution_count": null,
      "outputs": [
        {
          "output_type": "execute_result",
          "data": {
            "text/plain": [
              "<Figure size 432x288 with 1 Axes>"
            ],
            "image/png": "[encoded data removed]"
          },
          "metadata": {},
          "execution_count": 16
        },
        {
          "output_type": "display_data",
          "data": {
            "text/plain": [
              "<Figure size 432x288 with 1 Axes>"
            ],
            "image/png": "[encoded data removed]"
          },
          "metadata": {
            "needs_background": "light"
          }
        }
      ]
    },
    {
      "cell_type": "markdown",
      "source": [
        "Como podemos ver el las graficas, tenemos ruido en el lag 12, yendo este hacia abajo, por o que cambiaremos el parametro Q de 0 a 1 para tratar de corregir este error"
      ],
      "metadata": {
        "id": "992pub_hlSkz"
      }
    },
    {
      "cell_type": "markdown",
      "source": [
        "###Modelo 2"
      ],
      "metadata": {
        "id": "erqd3It4w-D9"
      }
    },
    {
      "cell_type": "code",
      "source": [
        "Q = 1"
      ],
      "metadata": {
        "id": "MNS3RKPuc7DV"
      },
      "execution_count": null,
      "outputs": []
    },
    {
      "cell_type": "code",
      "source": [
        "modelo2 = sm.tsa.statespace.SARIMAX(df['y'], order = (p, d, q), seasonal_order = (P, D, Q, num_per),  trend = 'c',  simple_differencing = True)\n",
        "aux2 = modelo2.fit()\n",
        "print(aux2.summary())"
      ],
      "metadata": {
        "colab": {
          "base_uri": "https://localhost:8080/"
        },
        "id": "sUpaxSqFc94p",
        "outputId": "6ca2c557-6dc1-4040-edd9-295545b6a430"
      },
      "execution_count": null,
      "outputs": [
        {
          "output_type": "stream",
          "name": "stderr",
          "text": [
            "/usr/local/lib/python3.7/dist-packages/statsmodels/tsa/base/tsa_model.py:579: ValueWarning: An unsupported index was provided and will be ignored when e.g. forecasting.\n",
            "  ' ignored when e.g. forecasting.', ValueWarning)\n",
            "/usr/local/lib/python3.7/dist-packages/statsmodels/tsa/base/tsa_model.py:579: ValueWarning: An unsupported index was provided and will be ignored when e.g. forecasting.\n",
            "  ' ignored when e.g. forecasting.', ValueWarning)\n"
          ]
        },
        {
          "output_type": "stream",
          "name": "stdout",
          "text": [
            "                                      SARIMAX Results                                       \n",
            "============================================================================================\n",
            "Dep. Variable:                               DS12.y   No. Observations:                  331\n",
            "Model:             SARIMAX(1, 0, 0)x(0, 0, [1], 12)   Log Likelihood                 774.971\n",
            "Date:                              Mon, 24 Oct 2022   AIC                          -1541.943\n",
            "Time:                                      16:44:40   BIC                          -1526.734\n",
            "Sample:                                           0   HQIC                         -1535.877\n",
            "                                              - 331                                         \n",
            "Covariance Type:                                opg                                         \n",
            "==============================================================================\n",
            "                 coef    std err          z      P>|z|      [0.025      0.975]\n",
            "------------------------------------------------------------------------------\n",
            "intercept      0.0024      0.000      6.075      0.000       0.002       0.003\n",
            "ar.L1          0.8794      0.019     45.540      0.000       0.842       0.917\n",
            "ma.S.L12      -0.8455      0.049    -17.211      0.000      -0.942      -0.749\n",
            "sigma2         0.0005   1.38e-05     37.382      0.000       0.000       0.001\n",
            "===================================================================================\n",
            "Ljung-Box (L1) (Q):                   4.08   Jarque-Bera (JB):              7519.53\n",
            "Prob(Q):                              0.04   Prob(JB):                         0.00\n",
            "Heteroskedasticity (H):               2.10   Skew:                            -2.32\n",
            "Prob(H) (two-sided):                  0.00   Kurtosis:                        25.88\n",
            "===================================================================================\n",
            "\n",
            "Warnings:\n",
            "[1] Covariance matrix calculated using the outer product of gradients (complex-step).\n"
          ]
        }
      ]
    },
    {
      "cell_type": "code",
      "source": [
        "plot_acf(aux2.resid, lags = 12)"
      ],
      "metadata": {
        "colab": {
          "base_uri": "https://localhost:8080/"
        },
        "id": "bVgDj_bPdAr2",
        "outputId": "c3b13da5-7d09-41f1-81f2-2cef914da0b1"
      },
      "execution_count": null,
      "outputs": [
        {
          "output_type": "execute_result",
          "data": {
            "text/plain": [
              "<Figure size 432x288 with 1 Axes>"
            ],
            "image/png": "[encoded data removed]"
          },
          "metadata": {},
          "execution_count": 19
        },
        {
          "output_type": "display_data",
          "data": {
            "text/plain": [
              "<Figure size 432x288 with 1 Axes>"
            ],
            "image/png": "[encoded data removed]"
          },
          "metadata": {
            "needs_background": "light"
          }
        }
      ]
    },
    {
      "cell_type": "code",
      "source": [
        "plot_pacf(aux2.resid, lags = 12)"
      ],
      "metadata": {
        "colab": {
          "base_uri": "https://localhost:8080/"
        },
        "id": "HlTVNcjndDJF",
        "outputId": "04119151-8c52-4f5b-b015-09fb32ebe798"
      },
      "execution_count": null,
      "outputs": [
        {
          "output_type": "execute_result",
          "data": {
            "text/plain": [
              "<Figure size 432x288 with 1 Axes>"
            ],
            "image/png": "[encoded data removed]"
          },
          "metadata": {},
          "execution_count": 20
        },
        {
          "output_type": "display_data",
          "data": {
            "text/plain": [
              "<Figure size 432x288 with 1 Axes>"
            ],
            "image/png": "[encoded data removed]"
          },
          "metadata": {
            "needs_background": "light"
          }
        }
      ]
    },
    {
      "cell_type": "markdown",
      "source": [
        "Como podemos ver en estos graficos, los lags de la variable ya se encientran todas por debajo del 95% o muy cerca, tanto en la cutocorrelacion parcial como en la normal, por lo que ya no generan ruido en nuestro modelo. \n",
        "\n",
        "En cuanto al p-value de nuestras variables, todos tienen un valor muy bajo, por lo que las variables pueden ser consideradas como relevantes. \n",
        "\n",
        "Gracias a esto, ya podemos generar un modelo, el cual seria:\n",
        "\n",
        "y_(t) = 0.0024 + 0.8794 * y_(t-1) - 0.8455 * E_(t-12) +- 0.0005(Desviacion estandar)"
      ],
      "metadata": {
        "id": "OwlOli4BO_5R"
      }
    },
    {
      "cell_type": "markdown",
      "source": [
        "Con esto, nos damos cuenta que el valor de 'y' anterior, tiene una significancia del 87.94% para la y actual"
      ],
      "metadata": {
        "id": "OYP1rA_BQ0lV"
      }
    },
    {
      "cell_type": "markdown",
      "source": [
        "##Prediccion"
      ],
      "metadata": {
        "id": "wBCCNJsvwuBi"
      }
    },
    {
      "cell_type": "code",
      "source": [
        "inter = 0.0024\n",
        "a1 = 0.8794\n",
        "a2 = -0.8455\n",
        "E = -0.5 / 0.8455"
      ],
      "metadata": {
        "id": "AemG7XXtw04o"
      },
      "execution_count": null,
      "outputs": []
    },
    {
      "cell_type": "code",
      "source": [
        "df[['Valor', 'val_pred']].plot()"
      ],
      "metadata": {
        "colab": {
          "base_uri": "https://localhost:8080/",
          "height": 284
        },
        "id": "3eDNQKP32Ez1",
        "outputId": "ed9f03b4-57c8-444c-8297-be5f37972a86"
      },
      "execution_count": null,
      "outputs": [
        {
          "output_type": "execute_result",
          "data": {
            "text/plain": [
              "<matplotlib.axes._subplots.AxesSubplot at 0x7fca3f64b290>"
            ]
          },
          "metadata": {},
          "execution_count": 25
        },
        {
          "output_type": "display_data",
          "data": {
            "text/plain": [
              "<Figure size 432x288 with 1 Axes>"
            ],
            "image/png": "[encoded data removed]"
          },
          "metadata": {
            "needs_background": "light"
          }
        }
      ]
    },
    {
      "cell_type": "markdown",
      "source": [
        "###Prediccion del siguiente mes "
      ],
      "metadata": {
        "id": "X5BZd-qT3pXz"
      }
    },
    {
      "cell_type": "markdown",
      "source": [
        "Para predecir el siguiente mes, usamos los valores obtenidos en el modelo y el ultimo dato registrado"
      ],
      "metadata": {
        "id": "-61jYF5V8P12"
      }
    },
    {
      "cell_type": "code",
      "source": [
        "y_pred = inter + a1 * df['y'][len(df)] + a2 * E\n",
        "valor_pred = np.exp(y_pred)"
      ],
      "metadata": {
        "id": "4s6Dr9tG3o9w"
      },
      "execution_count": null,
      "outputs": []
    },
    {
      "cell_type": "code",
      "source": [
        "valor_pred"
      ],
      "metadata": {
        "colab": {
          "base_uri": "https://localhost:8080/"
        },
        "id": "LAILr1el323-",
        "outputId": "38a354b9-5bac-4e74-80b3-650aba54b02e"
      },
      "execution_count": null,
      "outputs": [
        {
          "output_type": "execute_result",
          "data": {
            "text/plain": [
              "100.83524036319294"
            ]
          },
          "metadata": {},
          "execution_count": 27
        }
      ]
    }
  ]
}